{
  "nbformat": 4,
  "nbformat_minor": 0,
  "metadata": {
    "accelerator": "GPU",
    "colab": {
      "name": "NeoMusic_FinalVersion.ipynb",
      "provenance": [],
      "collapsed_sections": [],
      "machine_shape": "hm"
    },
    "kernelspec": {
      "display_name": "Python 3",
      "name": "python3"
    },
    "language_info": {
      "name": "python"
    }
  },
  "cells": [
    {
      "cell_type": "markdown",
      "metadata": {
        "id": "hmSGyKbhBTfY"
      },
      "source": [
        "# Team 5 : NeoMusic\n",
        "\n",
        "Team members\n",
        "\n",
        "1) Anuj Sharma\n",
        "\n",
        "2) Sandhya Santhanam\n",
        "\n",
        "3) Suriya Palanikumar"
      ]
    },
    {
      "cell_type": "markdown",
      "metadata": {
        "id": "aIZ4grYZNmwV"
      },
      "source": [
        "NeoMusic is to recommend similar music artists addressing the cold-start issue without usage data(Ratings/Similarity).\n",
        "\n",
        "**Steps Followed:**\n",
        "\n",
        "1) Nearst neighbors of each artists has been found with clustering techniques.\n",
        "\n",
        "2) Distance of each artists has been computed with their neighboring artists using Non-Symmetric distance metric(Hausdorff distance).\n",
        "\n",
        "3) The distance metric has been imported to Neo4j to find the similar artist using Graph mining techniques. Single source shortest path has been used to recommend the top-k similar artists.  (Queries are included in the notebook)."
      ]
    },
    {
      "cell_type": "code",
      "metadata": {
        "colab": {
          "base_uri": "https://localhost:8080/"
        },
        "id": "i6L34cbo7FUs",
        "outputId": "6c63398e-d29e-47cc-b45a-124e85068b9d"
      },
      "source": [
        "%tensorflow_version 2.x\n",
        "import tensorflow as tf\n",
        "device_name = tf.test.gpu_device_name()\n",
        "if device_name != '/device:GPU:0':\n",
        "  raise SystemError('GPU device not found')\n",
        "print('Found GPU at: {}'.format(device_name))"
      ],
      "execution_count": 1,
      "outputs": [
        {
          "output_type": "stream",
          "name": "stdout",
          "text": [
            "Found GPU at: /device:GPU:0\n"
          ]
        }
      ]
    },
    {
      "cell_type": "code",
      "metadata": {
        "colab": {
          "base_uri": "https://localhost:8080/",
          "height": 939
        },
        "id": "j7BqILye4v5X",
        "outputId": "3ee399fd-7598-44d8-98d2-ad62970abcaa"
      },
      "source": [
        "!pip install k-means-constrained\n",
        "!pip install yellowbrick"
      ],
      "execution_count": 2,
      "outputs": [
        {
          "output_type": "stream",
          "name": "stdout",
          "text": [
            "Requirement already satisfied: k-means-constrained in /usr/local/lib/python3.7/dist-packages (0.6.0)\n",
            "Collecting numpy>=1.20.3\n",
            "  Using cached numpy-1.21.4-cp37-cp37m-manylinux_2_12_x86_64.manylinux2010_x86_64.whl (15.7 MB)\n",
            "Requirement already satisfied: joblib in /usr/local/lib/python3.7/dist-packages (from k-means-constrained) (1.1.0)\n",
            "Requirement already satisfied: six in /usr/local/lib/python3.7/dist-packages (from k-means-constrained) (1.15.0)\n",
            "Requirement already satisfied: ortools>=9.0.9048 in /usr/local/lib/python3.7/dist-packages (from k-means-constrained) (9.1.9490)\n",
            "Requirement already satisfied: scipy>=1.6.3 in /usr/local/lib/python3.7/dist-packages (from k-means-constrained) (1.7.3)\n",
            "Requirement already satisfied: absl-py>=0.13 in /usr/local/lib/python3.7/dist-packages (from ortools>=9.0.9048->k-means-constrained) (1.0.0)\n",
            "Requirement already satisfied: protobuf>=3.18.0 in /usr/local/lib/python3.7/dist-packages (from ortools>=9.0.9048->k-means-constrained) (3.19.1)\n",
            "Installing collected packages: numpy\n",
            "  Attempting uninstall: numpy\n",
            "    Found existing installation: numpy 1.19.5\n",
            "    Uninstalling numpy-1.19.5:\n",
            "      Successfully uninstalled numpy-1.19.5\n",
            "\u001b[31mERROR: pip's dependency resolver does not currently take into account all the packages that are installed. This behaviour is the source of the following dependency conflicts.\n",
            "yellowbrick 1.3.post1 requires numpy<1.20,>=1.16.0, but you have numpy 1.21.4 which is incompatible.\n",
            "datascience 0.10.6 requires folium==0.2.1, but you have folium 0.8.3 which is incompatible.\n",
            "albumentations 0.1.12 requires imgaug<0.2.7,>=0.2.5, but you have imgaug 0.2.9 which is incompatible.\u001b[0m\n",
            "Successfully installed numpy-1.21.4\n"
          ]
        },
        {
          "output_type": "display_data",
          "data": {
            "application/vnd.colab-display-data+json": {
              "pip_warning": {
                "packages": [
                  "numpy"
                ]
              }
            }
          },
          "metadata": {}
        },
        {
          "output_type": "stream",
          "name": "stdout",
          "text": [
            "Requirement already satisfied: yellowbrick in /usr/local/lib/python3.7/dist-packages (1.3.post1)\n",
            "Collecting numpy<1.20,>=1.16.0\n",
            "  Using cached numpy-1.19.5-cp37-cp37m-manylinux2010_x86_64.whl (14.8 MB)\n",
            "Requirement already satisfied: scikit-learn>=0.20 in /usr/local/lib/python3.7/dist-packages (from yellowbrick) (1.0.1)\n",
            "Requirement already satisfied: scipy>=1.0.0 in /usr/local/lib/python3.7/dist-packages (from yellowbrick) (1.7.3)\n",
            "Requirement already satisfied: cycler>=0.10.0 in /usr/local/lib/python3.7/dist-packages (from yellowbrick) (0.11.0)\n",
            "Requirement already satisfied: matplotlib!=3.0.0,>=2.0.2 in /usr/local/lib/python3.7/dist-packages (from yellowbrick) (3.2.2)\n",
            "Requirement already satisfied: kiwisolver>=1.0.1 in /usr/local/lib/python3.7/dist-packages (from matplotlib!=3.0.0,>=2.0.2->yellowbrick) (1.3.2)\n",
            "Requirement already satisfied: pyparsing!=2.0.4,!=2.1.2,!=2.1.6,>=2.0.1 in /usr/local/lib/python3.7/dist-packages (from matplotlib!=3.0.0,>=2.0.2->yellowbrick) (3.0.6)\n",
            "Requirement already satisfied: python-dateutil>=2.1 in /usr/local/lib/python3.7/dist-packages (from matplotlib!=3.0.0,>=2.0.2->yellowbrick) (2.8.2)\n",
            "Requirement already satisfied: six>=1.5 in /usr/local/lib/python3.7/dist-packages (from python-dateutil>=2.1->matplotlib!=3.0.0,>=2.0.2->yellowbrick) (1.15.0)\n",
            "Requirement already satisfied: threadpoolctl>=2.0.0 in /usr/local/lib/python3.7/dist-packages (from scikit-learn>=0.20->yellowbrick) (3.0.0)\n",
            "Requirement already satisfied: joblib>=0.11 in /usr/local/lib/python3.7/dist-packages (from scikit-learn>=0.20->yellowbrick) (1.1.0)\n",
            "Installing collected packages: numpy\n",
            "  Attempting uninstall: numpy\n",
            "    Found existing installation: numpy 1.21.4\n",
            "    Uninstalling numpy-1.21.4:\n",
            "      Successfully uninstalled numpy-1.21.4\n",
            "\u001b[31mERROR: pip's dependency resolver does not currently take into account all the packages that are installed. This behaviour is the source of the following dependency conflicts.\n",
            "k-means-constrained 0.6.0 requires numpy>=1.20.3, but you have numpy 1.19.5 which is incompatible.\n",
            "datascience 0.10.6 requires folium==0.2.1, but you have folium 0.8.3 which is incompatible.\n",
            "albumentations 0.1.12 requires imgaug<0.2.7,>=0.2.5, but you have imgaug 0.2.9 which is incompatible.\u001b[0m\n",
            "Successfully installed numpy-1.19.5\n"
          ]
        },
        {
          "output_type": "display_data",
          "data": {
            "application/vnd.colab-display-data+json": {
              "pip_warning": {
                "packages": [
                  "numpy"
                ]
              }
            }
          },
          "metadata": {}
        }
      ]
    },
    {
      "cell_type": "code",
      "metadata": {
        "id": "e0w4-bRH6y7J"
      },
      "source": [
        "import pandas as pd\n",
        "import numpy as np\n",
        "from k_means_constrained import KMeansConstrained\n",
        "import matplotlib.pyplot as plt\n",
        "%matplotlib inline\n",
        "%config InlineBackend.figure_format = 'retina'\n",
        "from yellowbrick.cluster import KElbowVisualizer\n",
        "from sklearn.cluster import KMeans\n",
        "from sklearn.metrics import davies_bouldin_score"
      ],
      "execution_count": 84,
      "outputs": []
    },
    {
      "cell_type": "code",
      "metadata": {
        "colab": {
          "base_uri": "https://localhost:8080/"
        },
        "id": "nPLG3XJk63FF",
        "outputId": "dfddd244-9259-431f-9fa1-763307d9bdd6"
      },
      "source": [
        "from google.colab import drive\n",
        "drive.mount('/content/drive')"
      ],
      "execution_count": 136,
      "outputs": [
        {
          "output_type": "stream",
          "name": "stdout",
          "text": [
            "Drive already mounted at /content/drive; to attempt to forcibly remount, call drive.mount(\"/content/drive\", force_remount=True).\n"
          ]
        }
      ]
    },
    {
      "cell_type": "markdown",
      "metadata": {
        "id": "oBquC0q7Czbr"
      },
      "source": [
        "# Loading Data"
      ]
    },
    {
      "cell_type": "code",
      "metadata": {
        "colab": {
          "base_uri": "https://localhost:8080/",
          "height": 226
        },
        "id": "a8ALg8W47Cp6",
        "outputId": "013fca96-34cc-42c0-b69e-91724e4152db"
      },
      "source": [
        "df = pd.read_csv('/content/drive/MyDrive/256_Project/deezer_features.csv', header=None)\n",
        "df.head()"
      ],
      "execution_count": 4,
      "outputs": [
        {
          "output_type": "execute_result",
          "data": {
            "text/html": [
              "<div>\n",
              "<style scoped>\n",
              "    .dataframe tbody tr th:only-of-type {\n",
              "        vertical-align: middle;\n",
              "    }\n",
              "\n",
              "    .dataframe tbody tr th {\n",
              "        vertical-align: top;\n",
              "    }\n",
              "\n",
              "    .dataframe thead th {\n",
              "        text-align: right;\n",
              "    }\n",
              "</style>\n",
              "<table border=\"1\" class=\"dataframe\">\n",
              "  <thead>\n",
              "    <tr style=\"text-align: right;\">\n",
              "      <th></th>\n",
              "      <th>0</th>\n",
              "      <th>1</th>\n",
              "      <th>2</th>\n",
              "      <th>3</th>\n",
              "      <th>4</th>\n",
              "      <th>5</th>\n",
              "      <th>6</th>\n",
              "      <th>7</th>\n",
              "      <th>8</th>\n",
              "      <th>9</th>\n",
              "      <th>10</th>\n",
              "      <th>11</th>\n",
              "      <th>12</th>\n",
              "      <th>13</th>\n",
              "      <th>14</th>\n",
              "      <th>15</th>\n",
              "      <th>16</th>\n",
              "      <th>17</th>\n",
              "      <th>18</th>\n",
              "      <th>19</th>\n",
              "      <th>20</th>\n",
              "      <th>21</th>\n",
              "      <th>22</th>\n",
              "      <th>23</th>\n",
              "      <th>24</th>\n",
              "      <th>25</th>\n",
              "      <th>26</th>\n",
              "      <th>27</th>\n",
              "      <th>28</th>\n",
              "      <th>29</th>\n",
              "      <th>30</th>\n",
              "      <th>31</th>\n",
              "      <th>32</th>\n",
              "      <th>33</th>\n",
              "      <th>34</th>\n",
              "      <th>35</th>\n",
              "      <th>36</th>\n",
              "      <th>37</th>\n",
              "      <th>38</th>\n",
              "      <th>39</th>\n",
              "      <th>40</th>\n",
              "      <th>41</th>\n",
              "      <th>42</th>\n",
              "      <th>43</th>\n",
              "      <th>44</th>\n",
              "      <th>45</th>\n",
              "      <th>46</th>\n",
              "      <th>47</th>\n",
              "      <th>48</th>\n",
              "      <th>49</th>\n",
              "      <th>50</th>\n",
              "      <th>51</th>\n",
              "      <th>52</th>\n",
              "      <th>53</th>\n",
              "      <th>54</th>\n",
              "      <th>55</th>\n",
              "      <th>56</th>\n",
              "    </tr>\n",
              "  </thead>\n",
              "  <tbody>\n",
              "    <tr>\n",
              "      <th>0</th>\n",
              "      <td>1</td>\n",
              "      <td>-0.007510</td>\n",
              "      <td>0.002892</td>\n",
              "      <td>0.006003</td>\n",
              "      <td>-0.008288</td>\n",
              "      <td>0.001388</td>\n",
              "      <td>-0.009587</td>\n",
              "      <td>-0.002597</td>\n",
              "      <td>-0.001651</td>\n",
              "      <td>0.007500</td>\n",
              "      <td>0.005377</td>\n",
              "      <td>-0.014132</td>\n",
              "      <td>0.024988</td>\n",
              "      <td>0.000546</td>\n",
              "      <td>-0.010660</td>\n",
              "      <td>-0.017597</td>\n",
              "      <td>0.006302</td>\n",
              "      <td>0.023571</td>\n",
              "      <td>-0.013865</td>\n",
              "      <td>0.005722</td>\n",
              "      <td>-0.030666</td>\n",
              "      <td>-0.003915</td>\n",
              "      <td>0.054639</td>\n",
              "      <td>-0.036781</td>\n",
              "      <td>0.018083</td>\n",
              "      <td>-0.004836</td>\n",
              "      <td>-0.001371</td>\n",
              "      <td>-0.018559</td>\n",
              "      <td>0.026180</td>\n",
              "      <td>0.011409</td>\n",
              "      <td>-0.026717</td>\n",
              "      <td>0.009286</td>\n",
              "      <td>-0.029503</td>\n",
              "      <td>0</td>\n",
              "      <td>0</td>\n",
              "      <td>1</td>\n",
              "      <td>0</td>\n",
              "      <td>0</td>\n",
              "      <td>0</td>\n",
              "      <td>0</td>\n",
              "      <td>0</td>\n",
              "      <td>0</td>\n",
              "      <td>0</td>\n",
              "      <td>0</td>\n",
              "      <td>0</td>\n",
              "      <td>0</td>\n",
              "      <td>0</td>\n",
              "      <td>0</td>\n",
              "      <td>0</td>\n",
              "      <td>0</td>\n",
              "      <td>0</td>\n",
              "      <td>0</td>\n",
              "      <td>0</td>\n",
              "      <td>0.459391</td>\n",
              "      <td>0.193252</td>\n",
              "      <td>0.139495</td>\n",
              "      <td>0.151400</td>\n",
              "    </tr>\n",
              "    <tr>\n",
              "      <th>1</th>\n",
              "      <td>2</td>\n",
              "      <td>-0.172181</td>\n",
              "      <td>-0.082732</td>\n",
              "      <td>0.135843</td>\n",
              "      <td>0.011548</td>\n",
              "      <td>0.017318</td>\n",
              "      <td>-0.254997</td>\n",
              "      <td>0.113355</td>\n",
              "      <td>0.033932</td>\n",
              "      <td>-0.071162</td>\n",
              "      <td>-0.099428</td>\n",
              "      <td>-0.107563</td>\n",
              "      <td>0.042243</td>\n",
              "      <td>0.106874</td>\n",
              "      <td>-0.127894</td>\n",
              "      <td>-0.018735</td>\n",
              "      <td>0.017060</td>\n",
              "      <td>0.076911</td>\n",
              "      <td>-0.127784</td>\n",
              "      <td>-0.183286</td>\n",
              "      <td>-0.182893</td>\n",
              "      <td>0.120741</td>\n",
              "      <td>-0.158713</td>\n",
              "      <td>-0.077712</td>\n",
              "      <td>0.008842</td>\n",
              "      <td>-0.133573</td>\n",
              "      <td>0.030468</td>\n",
              "      <td>-0.225340</td>\n",
              "      <td>0.060964</td>\n",
              "      <td>0.047286</td>\n",
              "      <td>0.195375</td>\n",
              "      <td>0.066941</td>\n",
              "      <td>-0.076980</td>\n",
              "      <td>0</td>\n",
              "      <td>1</td>\n",
              "      <td>0</td>\n",
              "      <td>0</td>\n",
              "      <td>0</td>\n",
              "      <td>0</td>\n",
              "      <td>0</td>\n",
              "      <td>0</td>\n",
              "      <td>0</td>\n",
              "      <td>0</td>\n",
              "      <td>0</td>\n",
              "      <td>0</td>\n",
              "      <td>0</td>\n",
              "      <td>0</td>\n",
              "      <td>0</td>\n",
              "      <td>0</td>\n",
              "      <td>0</td>\n",
              "      <td>0</td>\n",
              "      <td>0</td>\n",
              "      <td>0</td>\n",
              "      <td>0.333660</td>\n",
              "      <td>0.161552</td>\n",
              "      <td>0.120748</td>\n",
              "      <td>0.167415</td>\n",
              "    </tr>\n",
              "    <tr>\n",
              "      <th>2</th>\n",
              "      <td>3</td>\n",
              "      <td>-0.157183</td>\n",
              "      <td>0.009618</td>\n",
              "      <td>0.088339</td>\n",
              "      <td>-0.084143</td>\n",
              "      <td>0.094306</td>\n",
              "      <td>-0.351647</td>\n",
              "      <td>-0.034583</td>\n",
              "      <td>0.144340</td>\n",
              "      <td>-0.008939</td>\n",
              "      <td>-0.219161</td>\n",
              "      <td>-0.052356</td>\n",
              "      <td>0.286848</td>\n",
              "      <td>0.198618</td>\n",
              "      <td>-0.214440</td>\n",
              "      <td>-0.268811</td>\n",
              "      <td>0.150304</td>\n",
              "      <td>0.448504</td>\n",
              "      <td>-0.384054</td>\n",
              "      <td>0.057444</td>\n",
              "      <td>-0.138773</td>\n",
              "      <td>0.220159</td>\n",
              "      <td>0.288947</td>\n",
              "      <td>-0.352348</td>\n",
              "      <td>-0.050004</td>\n",
              "      <td>0.051974</td>\n",
              "      <td>0.038191</td>\n",
              "      <td>-0.202896</td>\n",
              "      <td>0.417181</td>\n",
              "      <td>0.010661</td>\n",
              "      <td>0.114940</td>\n",
              "      <td>0.244948</td>\n",
              "      <td>0.222384</td>\n",
              "      <td>0</td>\n",
              "      <td>0</td>\n",
              "      <td>1</td>\n",
              "      <td>0</td>\n",
              "      <td>0</td>\n",
              "      <td>0</td>\n",
              "      <td>0</td>\n",
              "      <td>0</td>\n",
              "      <td>0</td>\n",
              "      <td>0</td>\n",
              "      <td>0</td>\n",
              "      <td>0</td>\n",
              "      <td>0</td>\n",
              "      <td>0</td>\n",
              "      <td>0</td>\n",
              "      <td>0</td>\n",
              "      <td>0</td>\n",
              "      <td>0</td>\n",
              "      <td>0</td>\n",
              "      <td>0</td>\n",
              "      <td>0.153438</td>\n",
              "      <td>0.186358</td>\n",
              "      <td>0.148314</td>\n",
              "      <td>0.113224</td>\n",
              "    </tr>\n",
              "    <tr>\n",
              "      <th>3</th>\n",
              "      <td>4</td>\n",
              "      <td>-0.124824</td>\n",
              "      <td>-0.020829</td>\n",
              "      <td>0.109950</td>\n",
              "      <td>0.005343</td>\n",
              "      <td>-0.014215</td>\n",
              "      <td>-0.075313</td>\n",
              "      <td>-0.015466</td>\n",
              "      <td>0.142181</td>\n",
              "      <td>0.093969</td>\n",
              "      <td>0.049267</td>\n",
              "      <td>-0.040896</td>\n",
              "      <td>-0.058768</td>\n",
              "      <td>0.015671</td>\n",
              "      <td>0.000444</td>\n",
              "      <td>0.055295</td>\n",
              "      <td>-0.003689</td>\n",
              "      <td>0.235109</td>\n",
              "      <td>-0.218155</td>\n",
              "      <td>0.120014</td>\n",
              "      <td>-0.146563</td>\n",
              "      <td>0.243076</td>\n",
              "      <td>-0.017480</td>\n",
              "      <td>-0.035989</td>\n",
              "      <td>0.017321</td>\n",
              "      <td>-0.189579</td>\n",
              "      <td>0.234798</td>\n",
              "      <td>-0.151922</td>\n",
              "      <td>0.161062</td>\n",
              "      <td>-0.054403</td>\n",
              "      <td>0.262250</td>\n",
              "      <td>0.217358</td>\n",
              "      <td>0.176144</td>\n",
              "      <td>0</td>\n",
              "      <td>0</td>\n",
              "      <td>0</td>\n",
              "      <td>0</td>\n",
              "      <td>0</td>\n",
              "      <td>1</td>\n",
              "      <td>0</td>\n",
              "      <td>0</td>\n",
              "      <td>0</td>\n",
              "      <td>0</td>\n",
              "      <td>0</td>\n",
              "      <td>0</td>\n",
              "      <td>0</td>\n",
              "      <td>0</td>\n",
              "      <td>0</td>\n",
              "      <td>0</td>\n",
              "      <td>0</td>\n",
              "      <td>0</td>\n",
              "      <td>0</td>\n",
              "      <td>0</td>\n",
              "      <td>0.606095</td>\n",
              "      <td>0.376574</td>\n",
              "      <td>0.045419</td>\n",
              "      <td>0.033385</td>\n",
              "    </tr>\n",
              "    <tr>\n",
              "      <th>4</th>\n",
              "      <td>5</td>\n",
              "      <td>-0.261996</td>\n",
              "      <td>-0.288156</td>\n",
              "      <td>0.197021</td>\n",
              "      <td>-0.208817</td>\n",
              "      <td>1.027182</td>\n",
              "      <td>0.207817</td>\n",
              "      <td>-0.073727</td>\n",
              "      <td>0.010425</td>\n",
              "      <td>-0.029520</td>\n",
              "      <td>0.173434</td>\n",
              "      <td>0.076610</td>\n",
              "      <td>-0.029162</td>\n",
              "      <td>-0.006886</td>\n",
              "      <td>0.002491</td>\n",
              "      <td>0.105421</td>\n",
              "      <td>0.066087</td>\n",
              "      <td>-0.081108</td>\n",
              "      <td>0.155968</td>\n",
              "      <td>0.103546</td>\n",
              "      <td>-0.086449</td>\n",
              "      <td>-0.114413</td>\n",
              "      <td>-0.202190</td>\n",
              "      <td>-0.498856</td>\n",
              "      <td>-0.183288</td>\n",
              "      <td>0.200243</td>\n",
              "      <td>0.339281</td>\n",
              "      <td>0.049975</td>\n",
              "      <td>-0.064397</td>\n",
              "      <td>-0.205344</td>\n",
              "      <td>-0.324963</td>\n",
              "      <td>0.335434</td>\n",
              "      <td>-0.181493</td>\n",
              "      <td>0</td>\n",
              "      <td>0</td>\n",
              "      <td>0</td>\n",
              "      <td>0</td>\n",
              "      <td>0</td>\n",
              "      <td>0</td>\n",
              "      <td>0</td>\n",
              "      <td>0</td>\n",
              "      <td>0</td>\n",
              "      <td>0</td>\n",
              "      <td>0</td>\n",
              "      <td>0</td>\n",
              "      <td>0</td>\n",
              "      <td>0</td>\n",
              "      <td>0</td>\n",
              "      <td>1</td>\n",
              "      <td>0</td>\n",
              "      <td>0</td>\n",
              "      <td>0</td>\n",
              "      <td>0</td>\n",
              "      <td>0.206979</td>\n",
              "      <td>0.045804</td>\n",
              "      <td>0.141537</td>\n",
              "      <td>0.142070</td>\n",
              "    </tr>\n",
              "  </tbody>\n",
              "</table>\n",
              "</div>"
            ],
            "text/plain": [
              "   0         1         2         3   ...        53        54        55        56\n",
              "0   1 -0.007510  0.002892  0.006003  ...  0.459391  0.193252  0.139495  0.151400\n",
              "1   2 -0.172181 -0.082732  0.135843  ...  0.333660  0.161552  0.120748  0.167415\n",
              "2   3 -0.157183  0.009618  0.088339  ...  0.153438  0.186358  0.148314  0.113224\n",
              "3   4 -0.124824 -0.020829  0.109950  ...  0.606095  0.376574  0.045419  0.033385\n",
              "4   5 -0.261996 -0.288156  0.197021  ...  0.206979  0.045804  0.141537  0.142070\n",
              "\n",
              "[5 rows x 57 columns]"
            ]
          },
          "metadata": {},
          "execution_count": 4
        }
      ]
    },
    {
      "cell_type": "markdown",
      "metadata": {
        "id": "z-rcxtN-9W9R"
      },
      "source": [
        "# Approach 1 : K Means Clustering"
      ]
    },
    {
      "cell_type": "code",
      "metadata": {
        "colab": {
          "base_uri": "https://localhost:8080/"
        },
        "id": "Dxp1BOz79aIE",
        "outputId": "03b9adf0-1103-4085-9d04-26950437cc5a"
      },
      "source": [
        "km = KMeans()\n",
        "k = list(range(90, 160, 10))\n",
        "k"
      ],
      "execution_count": 5,
      "outputs": [
        {
          "output_type": "execute_result",
          "data": {
            "text/plain": [
              "[90, 100, 110, 120, 130, 140, 150]"
            ]
          },
          "metadata": {},
          "execution_count": 5
        }
      ]
    },
    {
      "cell_type": "code",
      "metadata": {
        "colab": {
          "base_uri": "https://localhost:8080/",
          "height": 482
        },
        "id": "q3twNN-T9jnW",
        "outputId": "c2357d9f-8ce7-4623-98e0-2c3e51afc5cd"
      },
      "source": [
        "# Elbow Method to find the optimal K\n",
        "viz = KElbowVisualizer(km, k=k)\n",
        "viz.fit(df.iloc[:,1:])\n",
        "viz.show()"
      ],
      "execution_count": 6,
      "outputs": [
        {
          "output_type": "stream",
          "name": "stderr",
          "text": [
            "/usr/local/lib/python3.7/dist-packages/yellowbrick/utils/kneed.py:155: YellowbrickWarning: No 'knee' or 'elbow point' detected This could be due to bad clustering, no actual clusters being formed etc.\n",
            "  warnings.warn(warning_message, YellowbrickWarning)\n",
            "/usr/local/lib/python3.7/dist-packages/yellowbrick/cluster/elbow.py:343: YellowbrickWarning: No 'knee' or 'elbow' point detected, pass `locate_elbow=False` to remove the warning\n",
            "  warnings.warn(warning_message, YellowbrickWarning)\n"
          ]
        },
        {
          "output_type": "display_data",
          "data": {
            "image/png": "[encoded data removed]",
            "text/plain": [
              "<Figure size 576x396 with 2 Axes>"
            ]
          },
          "metadata": {
            "image/png": {
              "width": 556,
              "height": 358
            }
          }
        },
        {
          "output_type": "execute_result",
          "data": {
            "text/plain": [
              "<matplotlib.axes._subplots.AxesSubplot at 0x7f927b50f150>"
            ]
          },
          "metadata": {},
          "execution_count": 6
        }
      ]
    },
    {
      "cell_type": "code",
      "metadata": {
        "colab": {
          "base_uri": "https://localhost:8080/"
        },
        "id": "_5Vq_E1g-NOu",
        "outputId": "24f11edd-63ea-4502-afd3-947da53ec056"
      },
      "source": [
        "kmeans = KMeans(n_clusters= 122)\n",
        "kmeans.fit(df.iloc[:,1:])"
      ],
      "execution_count": 8,
      "outputs": [
        {
          "output_type": "execute_result",
          "data": {
            "text/plain": [
              "KMeans(n_clusters=122)"
            ]
          },
          "metadata": {},
          "execution_count": 8
        }
      ]
    },
    {
      "cell_type": "code",
      "metadata": {
        "colab": {
          "base_uri": "https://localhost:8080/"
        },
        "id": "bI81oZMs-hAE",
        "outputId": "2bbd3b19-f1d1-4495-cb26-34382a89d4d4"
      },
      "source": [
        "len(kmeans.cluster_centers_)"
      ],
      "execution_count": 9,
      "outputs": [
        {
          "output_type": "execute_result",
          "data": {
            "text/plain": [
              "122"
            ]
          },
          "metadata": {},
          "execution_count": 9
        }
      ]
    },
    {
      "cell_type": "code",
      "metadata": {
        "colab": {
          "base_uri": "https://localhost:8080/",
          "height": 363
        },
        "id": "ttrq73oL-lX6",
        "outputId": "defb26a0-f72e-4d58-8fbb-ab218912b16f"
      },
      "source": [
        "cluster_map = pd.DataFrame()\n",
        "cluster_map['artistID'] = df[0].values\n",
        "cluster_map['clusterLabel'] = kmeans.labels_\n",
        "cluster_map.head(10)"
      ],
      "execution_count": 11,
      "outputs": [
        {
          "output_type": "execute_result",
          "data": {
            "text/html": [
              "<div>\n",
              "<style scoped>\n",
              "    .dataframe tbody tr th:only-of-type {\n",
              "        vertical-align: middle;\n",
              "    }\n",
              "\n",
              "    .dataframe tbody tr th {\n",
              "        vertical-align: top;\n",
              "    }\n",
              "\n",
              "    .dataframe thead th {\n",
              "        text-align: right;\n",
              "    }\n",
              "</style>\n",
              "<table border=\"1\" class=\"dataframe\">\n",
              "  <thead>\n",
              "    <tr style=\"text-align: right;\">\n",
              "      <th></th>\n",
              "      <th>artistID</th>\n",
              "      <th>clusterLabel</th>\n",
              "    </tr>\n",
              "  </thead>\n",
              "  <tbody>\n",
              "    <tr>\n",
              "      <th>0</th>\n",
              "      <td>1</td>\n",
              "      <td>111</td>\n",
              "    </tr>\n",
              "    <tr>\n",
              "      <th>1</th>\n",
              "      <td>2</td>\n",
              "      <td>37</td>\n",
              "    </tr>\n",
              "    <tr>\n",
              "      <th>2</th>\n",
              "      <td>3</td>\n",
              "      <td>32</td>\n",
              "    </tr>\n",
              "    <tr>\n",
              "      <th>3</th>\n",
              "      <td>4</td>\n",
              "      <td>80</td>\n",
              "    </tr>\n",
              "    <tr>\n",
              "      <th>4</th>\n",
              "      <td>5</td>\n",
              "      <td>31</td>\n",
              "    </tr>\n",
              "    <tr>\n",
              "      <th>5</th>\n",
              "      <td>6</td>\n",
              "      <td>111</td>\n",
              "    </tr>\n",
              "    <tr>\n",
              "      <th>6</th>\n",
              "      <td>7</td>\n",
              "      <td>104</td>\n",
              "    </tr>\n",
              "    <tr>\n",
              "      <th>7</th>\n",
              "      <td>8</td>\n",
              "      <td>111</td>\n",
              "    </tr>\n",
              "    <tr>\n",
              "      <th>8</th>\n",
              "      <td>9</td>\n",
              "      <td>104</td>\n",
              "    </tr>\n",
              "    <tr>\n",
              "      <th>9</th>\n",
              "      <td>10</td>\n",
              "      <td>111</td>\n",
              "    </tr>\n",
              "  </tbody>\n",
              "</table>\n",
              "</div>"
            ],
            "text/plain": [
              "   artistID  clusterLabel\n",
              "0         1           111\n",
              "1         2            37\n",
              "2         3            32\n",
              "3         4            80\n",
              "4         5            31\n",
              "5         6           111\n",
              "6         7           104\n",
              "7         8           111\n",
              "8         9           104\n",
              "9        10           111"
            ]
          },
          "metadata": {},
          "execution_count": 11
        }
      ]
    },
    {
      "cell_type": "code",
      "metadata": {
        "id": "lyPHFDzw-stO"
      },
      "source": [
        "d = {}\n",
        "for i in range(len(kmeans.labels_)):\n",
        "  d[i] = cluster_map[cluster_map.clusterLabel == i][\"artistID\"].values.tolist()"
      ],
      "execution_count": 118,
      "outputs": []
    },
    {
      "cell_type": "code",
      "metadata": {
        "colab": {
          "base_uri": "https://localhost:8080/"
        },
        "id": "6Eyg5qPDAGGT",
        "outputId": "fd39220c-1bac-465a-e2e7-4aa8c92aaabe"
      },
      "source": [
        "# Finding the index of the minimum data points in a cluster\n",
        "findmin = float(\"inf\")\n",
        "index = float(\"inf\")\n",
        "for i in range(122):\n",
        "  if(len(d[i])<findmin):\n",
        "    findmin = len(d[i])\n",
        "    index = i\n",
        "print(\"Minimum data Points of a cluster :\", findmin)\n",
        "print(\"Index of minimum data points in a cluster :\", index)"
      ],
      "execution_count": 27,
      "outputs": [
        {
          "output_type": "stream",
          "name": "stdout",
          "text": [
            "Minimum data Points of a cluster : 3\n",
            "Index of minimum data points in a cluster : 89\n"
          ]
        }
      ]
    },
    {
      "cell_type": "code",
      "metadata": {
        "colab": {
          "base_uri": "https://localhost:8080/"
        },
        "id": "TiKOOvUZ-wk1",
        "outputId": "e102eba2-6069-419f-eb6a-e81c1c12f027"
      },
      "source": [
        "# Finding the index of maximum data points in a cluster\n",
        "findmax = float(\"-inf\")\n",
        "index = float(\"-inf\")\n",
        "for i in range(122):\n",
        "  if(len(d[i])>findmax):\n",
        "    findmax = len(d[i])\n",
        "    index = i\n",
        "print(\"Maximum data Points of a cluster :\", findmax)\n",
        "print(\"Index of maximum data points in a cluster :\", index)"
      ],
      "execution_count": 28,
      "outputs": [
        {
          "output_type": "stream",
          "name": "stdout",
          "text": [
            "Maximum data Points of a cluster : 2382\n",
            "Index of maximum data points in a cluster : 1\n"
          ]
        }
      ]
    },
    {
      "cell_type": "markdown",
      "metadata": {
        "id": "MFRlQ57cCCuG"
      },
      "source": [
        "**Comments**\n",
        "\n",
        "Implementing K-Means clustering to group similar artists produce cluster of different sizes. We could see that minimum data points in a cluster is 3 and maximum data points is 2382. This may result in a scenario where the artist of smaller cluster may not get recommended. This may again result in Cold-Start problem. Hence ignored this approach."
      ]
    },
    {
      "cell_type": "markdown",
      "metadata": {
        "id": "bGbwME4uBDRY"
      },
      "source": [
        "# Approach 2: KMeans Constrained"
      ]
    },
    {
      "cell_type": "markdown",
      "metadata": {
        "id": "w6y0O19TFXQo"
      },
      "source": [
        "**Algorithm 1: Clustering the data points using KMeans Constrained** "
      ]
    },
    {
      "cell_type": "code",
      "metadata": {
        "id": "BT4ozLA07C-U"
      },
      "source": [
        "kmeans = KMeansConstrained(122, size_min=20, size_max=200, random_state=2, verbose=True,)"
      ],
      "execution_count": 97,
      "outputs": []
    },
    {
      "cell_type": "code",
      "metadata": {
        "colab": {
          "base_uri": "https://localhost:8080/"
        },
        "id": "ghR8cwNM7DDw",
        "outputId": "5a6d35b7-aa21-4b49-fb0e-af678c484a81"
      },
      "source": [
        "resfit = kmeans.fit(df.iloc[:,1:])"
      ],
      "execution_count": 98,
      "outputs": [
        {
          "output_type": "stream",
          "name": "stdout",
          "text": [
            "Initialization complete\n",
            "Iteration  0, inertia 931815.856\n",
            "Iteration  1, inertia 120174.322\n",
            "Iteration  2, inertia 88918.419\n",
            "Iteration  3, inertia 85453.437\n",
            "Iteration  4, inertia 83977.944\n",
            "Iteration  5, inertia 82539.608\n",
            "Iteration  6, inertia 81299.223\n",
            "Iteration  7, inertia 80909.879\n",
            "Iteration  8, inertia 80650.950\n",
            "Iteration  9, inertia 80025.884\n",
            "Iteration 10, inertia 79374.982\n",
            "Iteration 11, inertia 79223.101\n",
            "Iteration 12, inertia 79083.807\n",
            "Iteration 13, inertia 79015.940\n",
            "Iteration 14, inertia 79009.101\n",
            "Iteration 15, inertia 79007.822\n",
            "Iteration 16, inertia 79005.037\n",
            "Iteration 17, inertia 79004.427\n",
            "Iteration 18, inertia 79003.899\n",
            "Iteration 19, inertia 79004.015\n",
            "Iteration 20, inertia 79004.316\n",
            "Iteration 21, inertia 79004.715\n",
            "Iteration 22, inertia 79004.899\n",
            "Iteration 23, inertia 79004.919\n",
            "Iteration 24, inertia 79004.878\n",
            "Iteration 25, inertia 79004.846\n",
            "Iteration 26, inertia 79004.880\n",
            "Iteration 27, inertia 79004.845\n",
            "Converged at iteration 27: center shift 4.878133e-05 within tolerance 7.044287e-05\n",
            "Initialization complete\n",
            "Iteration  0, inertia 994994.522\n",
            "Iteration  1, inertia 116477.261\n",
            "Iteration  2, inertia 91401.507\n",
            "Iteration  3, inertia 86621.110\n",
            "Iteration  4, inertia 84675.909\n",
            "Iteration  5, inertia 83799.895\n",
            "Iteration  6, inertia 81791.921\n",
            "Iteration  7, inertia 78680.270\n",
            "Iteration  8, inertia 77189.448\n",
            "Iteration  9, inertia 76967.563\n",
            "Iteration 10, inertia 76727.351\n",
            "Iteration 11, inertia 76567.932\n",
            "Iteration 12, inertia 76363.778\n",
            "Iteration 13, inertia 76021.174\n",
            "Iteration 14, inertia 75884.471\n",
            "Iteration 15, inertia 75848.166\n",
            "Iteration 16, inertia 75844.576\n",
            "Iteration 17, inertia 75832.669\n",
            "Iteration 18, inertia 75827.686\n",
            "Iteration 19, inertia 75839.439\n",
            "Iteration 20, inertia 75849.737\n",
            "Iteration 21, inertia 75871.628\n",
            "Iteration 22, inertia 75876.625\n",
            "Iteration 23, inertia 75895.014\n",
            "Iteration 24, inertia 75909.424\n",
            "Iteration 25, inertia 75903.585\n",
            "Iteration 26, inertia 75912.056\n",
            "Iteration 27, inertia 75919.356\n",
            "Iteration 28, inertia 75920.291\n",
            "Iteration 29, inertia 75918.864\n",
            "Iteration 30, inertia 75917.188\n",
            "Iteration 31, inertia 75917.046\n",
            "Converged at iteration 31: center shift 3.986968e-05 within tolerance 7.044287e-05\n",
            "Initialization complete\n",
            "Iteration  0, inertia 1113539.380\n",
            "Iteration  1, inertia 118186.856\n",
            "Iteration  2, inertia 90210.916\n",
            "Iteration  3, inertia 84174.646\n",
            "Iteration  4, inertia 81724.176\n",
            "Iteration  5, inertia 80570.825\n",
            "Iteration  6, inertia 79474.541\n",
            "Iteration  7, inertia 79331.158\n",
            "Iteration  8, inertia 79254.345\n",
            "Iteration  9, inertia 79232.255\n",
            "Iteration 10, inertia 79218.095\n",
            "Iteration 11, inertia 79216.433\n",
            "Iteration 12, inertia 79214.423\n",
            "Iteration 13, inertia 79208.789\n",
            "Iteration 14, inertia 79205.874\n",
            "Iteration 15, inertia 79205.269\n",
            "Iteration 16, inertia 79196.217\n",
            "Iteration 17, inertia 79195.219\n",
            "Iteration 18, inertia 79195.080\n",
            "Converged at iteration 18: center shift 2.037760e-05 within tolerance 7.044287e-05\n",
            "Initialization complete\n",
            "Iteration  0, inertia 1121104.158\n",
            "Iteration  1, inertia 115046.435\n",
            "Iteration  2, inertia 84573.072\n",
            "Iteration  3, inertia 80299.172\n",
            "Iteration  4, inertia 78960.926\n",
            "Iteration  5, inertia 77818.431\n",
            "Iteration  6, inertia 77416.172\n",
            "Iteration  7, inertia 77274.196\n",
            "Iteration  8, inertia 77250.349\n",
            "Iteration  9, inertia 77260.350\n",
            "Iteration 10, inertia 77249.899\n",
            "Iteration 11, inertia 77244.676\n",
            "Iteration 12, inertia 77243.512\n",
            "Iteration 13, inertia 77239.060\n",
            "Iteration 14, inertia 77244.105\n",
            "Iteration 15, inertia 77243.250\n",
            "Iteration 16, inertia 77243.422\n",
            "Iteration 17, inertia 77243.401\n",
            "Iteration 18, inertia 77243.381\n",
            "Iteration 19, inertia 77243.337\n",
            "Iteration 20, inertia 77243.349\n",
            "Iteration 21, inertia 77243.289\n",
            "Iteration 22, inertia 77243.265\n",
            "Converged at iteration 22: center shift 5.510035e-05 within tolerance 7.044287e-05\n",
            "Initialization complete\n",
            "Iteration  0, inertia 1030197.120\n",
            "Iteration  1, inertia 114973.700\n",
            "Iteration  2, inertia 85311.934\n",
            "Iteration  3, inertia 80293.933\n",
            "Iteration  4, inertia 77998.427\n",
            "Iteration  5, inertia 76500.249\n",
            "Iteration  6, inertia 76062.762\n",
            "Iteration  7, inertia 75905.218\n",
            "Iteration  8, inertia 75907.358\n",
            "Iteration  9, inertia 75893.996\n",
            "Iteration 10, inertia 75853.300\n",
            "Iteration 11, inertia 75842.089\n",
            "Iteration 12, inertia 75841.088\n",
            "Iteration 13, inertia 75840.769\n",
            "Iteration 14, inertia 75840.875\n",
            "Iteration 15, inertia 75840.894\n",
            "Iteration 16, inertia 75840.860\n",
            "Iteration 17, inertia 75840.805\n",
            "Converged at iteration 17: center shift 6.954837e-05 within tolerance 7.044287e-05\n",
            "Initialization complete\n",
            "Iteration  0, inertia 1028917.873\n",
            "Iteration  1, inertia 118824.162\n",
            "Iteration  2, inertia 84615.097\n",
            "Iteration  3, inertia 78861.889\n",
            "Iteration  4, inertia 77211.000\n",
            "Iteration  5, inertia 76915.512\n",
            "Iteration  6, inertia 76683.417\n",
            "Iteration  7, inertia 76613.542\n",
            "Iteration  8, inertia 76501.402\n",
            "Iteration  9, inertia 76287.625\n",
            "Iteration 10, inertia 76088.620\n",
            "Iteration 11, inertia 75953.245\n",
            "Iteration 12, inertia 75842.964\n",
            "Iteration 13, inertia 75711.135\n",
            "Iteration 14, inertia 75389.068\n",
            "Iteration 15, inertia 75175.459\n",
            "Iteration 16, inertia 75063.354\n",
            "Iteration 17, inertia 74925.617\n",
            "Iteration 18, inertia 74766.555\n",
            "Iteration 19, inertia 74729.485\n",
            "Iteration 20, inertia 74727.247\n",
            "Iteration 21, inertia 74725.033\n",
            "Iteration 22, inertia 74709.985\n",
            "Iteration 23, inertia 74712.217\n",
            "Iteration 24, inertia 74688.057\n",
            "Iteration 25, inertia 74683.460\n",
            "Iteration 26, inertia 74682.630\n",
            "Iteration 27, inertia 74679.925\n",
            "Iteration 28, inertia 74679.893\n",
            "Iteration 29, inertia 74679.988\n",
            "Iteration 30, inertia 74679.581\n",
            "Iteration 31, inertia 74678.364\n",
            "Iteration 32, inertia 74677.541\n",
            "Iteration 33, inertia 74662.647\n",
            "Iteration 34, inertia 74642.932\n",
            "Iteration 35, inertia 74623.717\n",
            "Iteration 36, inertia 74614.758\n",
            "Iteration 37, inertia 74614.458\n",
            "Converged at iteration 37: center shift 1.967171e-06 within tolerance 7.044287e-05\n",
            "Initialization complete\n",
            "Iteration  0, inertia 1135911.544\n",
            "Iteration  1, inertia 123167.252\n",
            "Iteration  2, inertia 89911.600\n",
            "Iteration  3, inertia 83439.702\n",
            "Iteration  4, inertia 80984.284\n",
            "Iteration  5, inertia 79594.586\n",
            "Iteration  6, inertia 79441.816\n",
            "Iteration  7, inertia 79356.663\n",
            "Iteration  8, inertia 79165.033\n",
            "Iteration  9, inertia 79122.787\n",
            "Iteration 10, inertia 79054.206\n",
            "Iteration 11, inertia 79057.764\n",
            "Iteration 12, inertia 79043.498\n",
            "Iteration 13, inertia 79041.977\n",
            "Iteration 14, inertia 79041.627\n",
            "Iteration 15, inertia 79041.378\n",
            "Iteration 16, inertia 79041.232\n",
            "Iteration 17, inertia 79041.279\n",
            "Converged at iteration 17: center shift 5.476176e-05 within tolerance 7.044287e-05\n",
            "Initialization complete\n",
            "Iteration  0, inertia 1034073.192\n",
            "Iteration  1, inertia 111041.368\n",
            "Iteration  2, inertia 85373.299\n",
            "Iteration  3, inertia 80217.934\n",
            "Iteration  4, inertia 78784.418\n",
            "Iteration  5, inertia 78315.469\n",
            "Iteration  6, inertia 77992.110\n",
            "Iteration  7, inertia 77914.163\n",
            "Iteration  8, inertia 77866.025\n",
            "Iteration  9, inertia 77840.766\n",
            "Iteration 10, inertia 77819.676\n",
            "Iteration 11, inertia 77783.493\n",
            "Iteration 12, inertia 77608.691\n",
            "Iteration 13, inertia 77416.122\n",
            "Iteration 14, inertia 77409.807\n",
            "Iteration 15, inertia 77406.647\n",
            "Iteration 16, inertia 77406.307\n",
            "Iteration 17, inertia 77406.081\n",
            "Iteration 18, inertia 77406.044\n",
            "Iteration 19, inertia 77405.957\n",
            "Iteration 20, inertia 77405.811\n",
            "Iteration 21, inertia 77405.730\n",
            "Iteration 22, inertia 77405.563\n",
            "Iteration 23, inertia 77405.455\n",
            "Iteration 24, inertia 77405.357\n",
            "Iteration 25, inertia 77405.326\n",
            "Iteration 26, inertia 77405.271\n",
            "Iteration 27, inertia 77405.266\n",
            "Iteration 28, inertia 77405.207\n",
            "Iteration 29, inertia 77405.162\n",
            "Iteration 30, inertia 77405.098\n",
            "Iteration 31, inertia 77405.084\n",
            "Iteration 32, inertia 77404.990\n",
            "Iteration 33, inertia 77405.013\n",
            "Iteration 34, inertia 77404.972\n",
            "Converged at iteration 34: center shift 4.436361e-05 within tolerance 7.044287e-05\n",
            "Initialization complete\n",
            "Iteration  0, inertia 1088680.042\n",
            "Iteration  1, inertia 110566.173\n",
            "Iteration  2, inertia 85028.282\n",
            "Iteration  3, inertia 81761.681\n",
            "Iteration  4, inertia 79691.313\n",
            "Iteration  5, inertia 78409.382\n",
            "Iteration  6, inertia 78013.053\n",
            "Iteration  7, inertia 78086.133\n",
            "Iteration  8, inertia 77970.705\n",
            "Iteration  9, inertia 77998.437\n",
            "Iteration 10, inertia 78018.971\n",
            "Iteration 11, inertia 77932.922\n",
            "Iteration 12, inertia 77927.196\n",
            "Iteration 13, inertia 77969.547\n",
            "Iteration 14, inertia 78115.087\n",
            "Iteration 15, inertia 78078.973\n",
            "Iteration 16, inertia 78067.862\n",
            "Iteration 17, inertia 78059.279\n",
            "Iteration 18, inertia 78057.992\n",
            "Iteration 19, inertia 78057.885\n",
            "Iteration 20, inertia 78058.603\n",
            "Iteration 21, inertia 78058.570\n",
            "Iteration 22, inertia 78052.670\n",
            "Iteration 23, inertia 78034.540\n",
            "Iteration 24, inertia 78025.421\n",
            "Iteration 25, inertia 78022.292\n",
            "Iteration 26, inertia 78022.828\n",
            "Iteration 27, inertia 78022.652\n",
            "Iteration 28, inertia 78022.639\n",
            "Iteration 29, inertia 78022.676\n",
            "Iteration 30, inertia 78022.687\n",
            "Iteration 31, inertia 78022.571\n",
            "Iteration 32, inertia 78022.543\n",
            "Converged at iteration 32: center shift 6.964537e-05 within tolerance 7.044287e-05\n",
            "Initialization complete\n",
            "Iteration  0, inertia 1043213.162\n",
            "Iteration  1, inertia 123718.860\n",
            "Iteration  2, inertia 88873.473\n",
            "Iteration  3, inertia 81220.567\n",
            "Iteration  4, inertia 79047.431\n",
            "Iteration  5, inertia 76122.684\n",
            "Iteration  6, inertia 74820.265\n",
            "Iteration  7, inertia 74646.634\n",
            "Iteration  8, inertia 74506.358\n",
            "Iteration  9, inertia 74376.284\n",
            "Iteration 10, inertia 74345.155\n",
            "Iteration 11, inertia 74338.333\n",
            "Iteration 12, inertia 74312.877\n",
            "Iteration 13, inertia 74308.029\n",
            "Iteration 14, inertia 74299.820\n",
            "Iteration 15, inertia 74296.288\n",
            "Iteration 16, inertia 74294.253\n",
            "Iteration 17, inertia 74293.564\n",
            "Iteration 18, inertia 74293.314\n",
            "Iteration 19, inertia 74293.245\n",
            "Iteration 20, inertia 74293.159\n",
            "Iteration 21, inertia 74293.118\n",
            "Iteration 22, inertia 74293.022\n",
            "Iteration 23, inertia 74292.897\n",
            "Iteration 24, inertia 74292.720\n",
            "Iteration 25, inertia 74292.653\n",
            "Iteration 26, inertia 74292.546\n",
            "Converged at iteration 26: center shift 6.517939e-05 within tolerance 7.044287e-05\n"
          ]
        }
      ]
    },
    {
      "cell_type": "code",
      "metadata": {
        "id": "HQXx3FgZ7DGZ",
        "colab": {
          "base_uri": "https://localhost:8080/"
        },
        "outputId": "79a91a87-5233-45c8-f75a-a1dc6de8a118"
      },
      "source": [
        "print(len(kmeans.cluster_centers_))\n",
        "print(kmeans.labels_)"
      ],
      "execution_count": 85,
      "outputs": [
        {
          "output_type": "stream",
          "name": "stdout",
          "text": [
            "122\n",
            "[10 37 27 ... 23 72 48]\n"
          ]
        }
      ]
    },
    {
      "cell_type": "code",
      "metadata": {
        "id": "YlWFMnfn7DJh"
      },
      "source": [
        "cluster_map = pd.DataFrame()\n",
        "cluster_map['artistID'] = df[0].values\n",
        "cluster_map['clusterLabel'] = kmeans.labels_"
      ],
      "execution_count": 64,
      "outputs": []
    },
    {
      "cell_type": "code",
      "metadata": {
        "colab": {
          "base_uri": "https://localhost:8080/",
          "height": 423
        },
        "id": "0mskCMCtpA5t",
        "outputId": "ef29d15f-0176-4c97-8606-2148bab84bae"
      },
      "source": [
        "cluster_map"
      ],
      "execution_count": 65,
      "outputs": [
        {
          "output_type": "execute_result",
          "data": {
            "text/html": [
              "<div>\n",
              "<style scoped>\n",
              "    .dataframe tbody tr th:only-of-type {\n",
              "        vertical-align: middle;\n",
              "    }\n",
              "\n",
              "    .dataframe tbody tr th {\n",
              "        vertical-align: top;\n",
              "    }\n",
              "\n",
              "    .dataframe thead th {\n",
              "        text-align: right;\n",
              "    }\n",
              "</style>\n",
              "<table border=\"1\" class=\"dataframe\">\n",
              "  <thead>\n",
              "    <tr style=\"text-align: right;\">\n",
              "      <th></th>\n",
              "      <th>artistID</th>\n",
              "      <th>clusterLabel</th>\n",
              "    </tr>\n",
              "  </thead>\n",
              "  <tbody>\n",
              "    <tr>\n",
              "      <th>0</th>\n",
              "      <td>1</td>\n",
              "      <td>10</td>\n",
              "    </tr>\n",
              "    <tr>\n",
              "      <th>1</th>\n",
              "      <td>2</td>\n",
              "      <td>37</td>\n",
              "    </tr>\n",
              "    <tr>\n",
              "      <th>2</th>\n",
              "      <td>3</td>\n",
              "      <td>27</td>\n",
              "    </tr>\n",
              "    <tr>\n",
              "      <th>3</th>\n",
              "      <td>4</td>\n",
              "      <td>36</td>\n",
              "    </tr>\n",
              "    <tr>\n",
              "      <th>4</th>\n",
              "      <td>5</td>\n",
              "      <td>40</td>\n",
              "    </tr>\n",
              "    <tr>\n",
              "      <th>...</th>\n",
              "      <td>...</td>\n",
              "      <td>...</td>\n",
              "    </tr>\n",
              "    <tr>\n",
              "      <th>24265</th>\n",
              "      <td>24266</td>\n",
              "      <td>20</td>\n",
              "    </tr>\n",
              "    <tr>\n",
              "      <th>24266</th>\n",
              "      <td>24267</td>\n",
              "      <td>28</td>\n",
              "    </tr>\n",
              "    <tr>\n",
              "      <th>24267</th>\n",
              "      <td>24268</td>\n",
              "      <td>23</td>\n",
              "    </tr>\n",
              "    <tr>\n",
              "      <th>24268</th>\n",
              "      <td>24269</td>\n",
              "      <td>72</td>\n",
              "    </tr>\n",
              "    <tr>\n",
              "      <th>24269</th>\n",
              "      <td>24270</td>\n",
              "      <td>48</td>\n",
              "    </tr>\n",
              "  </tbody>\n",
              "</table>\n",
              "<p>24270 rows × 2 columns</p>\n",
              "</div>"
            ],
            "text/plain": [
              "       artistID  clusterLabel\n",
              "0             1            10\n",
              "1             2            37\n",
              "2             3            27\n",
              "3             4            36\n",
              "4             5            40\n",
              "...         ...           ...\n",
              "24265     24266            20\n",
              "24266     24267            28\n",
              "24267     24268            23\n",
              "24268     24269            72\n",
              "24269     24270            48\n",
              "\n",
              "[24270 rows x 2 columns]"
            ]
          },
          "metadata": {},
          "execution_count": 65
        }
      ]
    },
    {
      "cell_type": "code",
      "metadata": {
        "id": "2GIl7MBEL-26"
      },
      "source": [
        "# COnverting all the clusters into a dataframe\n",
        "d = {}\n",
        "for i in range(len(kmeans.cluster_centers_)):\n",
        "  d[i] = cluster_map[cluster_map.clusterLabel == i][\"artistID\"].values.tolist()"
      ],
      "execution_count": 66,
      "outputs": []
    },
    {
      "cell_type": "code",
      "metadata": {
        "colab": {
          "base_uri": "https://localhost:8080/"
        },
        "id": "xwUsE-hmD4xM",
        "outputId": "b38015d5-a85b-4938-a0c1-a440f9f8ed72"
      },
      "source": [
        "# Finding the index of the minimum data points in a cluster\n",
        "findmin = float(\"inf\")\n",
        "index = float(\"inf\")\n",
        "for i in range(122):\n",
        "  if(len(d[i])<findmin):\n",
        "    findmin = len(d[i])\n",
        "    index = i\n",
        "print(\"Minimum data Points of a cluster :\", findmin)\n",
        "print(\"Index of minimum data points in a cluster :\", index)"
      ],
      "execution_count": 67,
      "outputs": [
        {
          "output_type": "stream",
          "name": "stdout",
          "text": [
            "Minimum data Points of a cluster : 143\n",
            "Index of minimum data points in a cluster : 21\n"
          ]
        }
      ]
    },
    {
      "cell_type": "code",
      "metadata": {
        "colab": {
          "base_uri": "https://localhost:8080/"
        },
        "id": "xcedLXXGD6Gr",
        "outputId": "621bccb7-402c-4fb2-fd1b-01f08c3a4cff"
      },
      "source": [
        "# Finding the index of maximum data points in a cluster\n",
        "findmax = float(\"-inf\")\n",
        "index = float(\"-inf\")\n",
        "for i in range(122):\n",
        "  if(len(d[i])>findmax):\n",
        "    findmax = len(d[i])\n",
        "    index = i\n",
        "print(\"Maximum data Points of a cluster :\", findmax)\n",
        "print(\"Index of maximum data points in a cluster :\", index)"
      ],
      "execution_count": 68,
      "outputs": [
        {
          "output_type": "stream",
          "name": "stdout",
          "text": [
            "Maximum data Points of a cluster : 200\n",
            "Index of maximum data points in a cluster : 0\n"
          ]
        }
      ]
    },
    {
      "cell_type": "markdown",
      "metadata": {
        "id": "X618dWhcD_3R"
      },
      "source": [
        "**Comments**\n",
        "\n",
        "KMeans constrained almost produces same number of data points in each clusters. It may help us to overcome the cold-start problem."
      ]
    },
    {
      "cell_type": "code",
      "metadata": {
        "id": "4DDrF0MTtz23",
        "colab": {
          "base_uri": "https://localhost:8080/",
          "height": 443
        },
        "outputId": "9cc7c1e7-d427-44a9-aefb-8b697ec2eba7"
      },
      "source": [
        "df_copy = df\n",
        "df_copy"
      ],
      "execution_count": 69,
      "outputs": [
        {
          "output_type": "execute_result",
          "data": {
            "text/html": [
              "<div>\n",
              "<style scoped>\n",
              "    .dataframe tbody tr th:only-of-type {\n",
              "        vertical-align: middle;\n",
              "    }\n",
              "\n",
              "    .dataframe tbody tr th {\n",
              "        vertical-align: top;\n",
              "    }\n",
              "\n",
              "    .dataframe thead th {\n",
              "        text-align: right;\n",
              "    }\n",
              "</style>\n",
              "<table border=\"1\" class=\"dataframe\">\n",
              "  <thead>\n",
              "    <tr style=\"text-align: right;\">\n",
              "      <th></th>\n",
              "      <th>0</th>\n",
              "      <th>1</th>\n",
              "      <th>2</th>\n",
              "      <th>3</th>\n",
              "      <th>4</th>\n",
              "      <th>5</th>\n",
              "      <th>6</th>\n",
              "      <th>7</th>\n",
              "      <th>8</th>\n",
              "      <th>9</th>\n",
              "      <th>10</th>\n",
              "      <th>11</th>\n",
              "      <th>12</th>\n",
              "      <th>13</th>\n",
              "      <th>14</th>\n",
              "      <th>15</th>\n",
              "      <th>16</th>\n",
              "      <th>17</th>\n",
              "      <th>18</th>\n",
              "      <th>19</th>\n",
              "      <th>20</th>\n",
              "      <th>21</th>\n",
              "      <th>22</th>\n",
              "      <th>23</th>\n",
              "      <th>24</th>\n",
              "      <th>25</th>\n",
              "      <th>26</th>\n",
              "      <th>27</th>\n",
              "      <th>28</th>\n",
              "      <th>29</th>\n",
              "      <th>30</th>\n",
              "      <th>31</th>\n",
              "      <th>32</th>\n",
              "      <th>33</th>\n",
              "      <th>34</th>\n",
              "      <th>35</th>\n",
              "      <th>36</th>\n",
              "      <th>37</th>\n",
              "      <th>38</th>\n",
              "      <th>39</th>\n",
              "      <th>40</th>\n",
              "      <th>41</th>\n",
              "      <th>42</th>\n",
              "      <th>43</th>\n",
              "      <th>44</th>\n",
              "      <th>45</th>\n",
              "      <th>46</th>\n",
              "      <th>47</th>\n",
              "      <th>48</th>\n",
              "      <th>49</th>\n",
              "      <th>50</th>\n",
              "      <th>51</th>\n",
              "      <th>52</th>\n",
              "      <th>53</th>\n",
              "      <th>54</th>\n",
              "      <th>55</th>\n",
              "      <th>56</th>\n",
              "    </tr>\n",
              "  </thead>\n",
              "  <tbody>\n",
              "    <tr>\n",
              "      <th>0</th>\n",
              "      <td>1</td>\n",
              "      <td>-0.007510</td>\n",
              "      <td>0.002892</td>\n",
              "      <td>0.006003</td>\n",
              "      <td>-0.008288</td>\n",
              "      <td>0.001388</td>\n",
              "      <td>-0.009587</td>\n",
              "      <td>-0.002597</td>\n",
              "      <td>-0.001651</td>\n",
              "      <td>0.007500</td>\n",
              "      <td>0.005377</td>\n",
              "      <td>-0.014132</td>\n",
              "      <td>0.024988</td>\n",
              "      <td>0.000546</td>\n",
              "      <td>-0.010660</td>\n",
              "      <td>-0.017597</td>\n",
              "      <td>0.006302</td>\n",
              "      <td>0.023571</td>\n",
              "      <td>-0.013865</td>\n",
              "      <td>0.005722</td>\n",
              "      <td>-0.030666</td>\n",
              "      <td>-0.003915</td>\n",
              "      <td>0.054639</td>\n",
              "      <td>-0.036781</td>\n",
              "      <td>0.018083</td>\n",
              "      <td>-0.004836</td>\n",
              "      <td>-0.001371</td>\n",
              "      <td>-0.018559</td>\n",
              "      <td>0.026180</td>\n",
              "      <td>0.011409</td>\n",
              "      <td>-0.026717</td>\n",
              "      <td>0.009286</td>\n",
              "      <td>-0.029503</td>\n",
              "      <td>0</td>\n",
              "      <td>0</td>\n",
              "      <td>1</td>\n",
              "      <td>0</td>\n",
              "      <td>0</td>\n",
              "      <td>0</td>\n",
              "      <td>0</td>\n",
              "      <td>0</td>\n",
              "      <td>0</td>\n",
              "      <td>0</td>\n",
              "      <td>0</td>\n",
              "      <td>0</td>\n",
              "      <td>0</td>\n",
              "      <td>0</td>\n",
              "      <td>0</td>\n",
              "      <td>0</td>\n",
              "      <td>0</td>\n",
              "      <td>0</td>\n",
              "      <td>0</td>\n",
              "      <td>0</td>\n",
              "      <td>0.459391</td>\n",
              "      <td>0.193252</td>\n",
              "      <td>0.139495</td>\n",
              "      <td>0.151400</td>\n",
              "    </tr>\n",
              "    <tr>\n",
              "      <th>1</th>\n",
              "      <td>2</td>\n",
              "      <td>-0.172181</td>\n",
              "      <td>-0.082732</td>\n",
              "      <td>0.135843</td>\n",
              "      <td>0.011548</td>\n",
              "      <td>0.017318</td>\n",
              "      <td>-0.254997</td>\n",
              "      <td>0.113355</td>\n",
              "      <td>0.033932</td>\n",
              "      <td>-0.071162</td>\n",
              "      <td>-0.099428</td>\n",
              "      <td>-0.107563</td>\n",
              "      <td>0.042243</td>\n",
              "      <td>0.106874</td>\n",
              "      <td>-0.127894</td>\n",
              "      <td>-0.018735</td>\n",
              "      <td>0.017060</td>\n",
              "      <td>0.076911</td>\n",
              "      <td>-0.127784</td>\n",
              "      <td>-0.183286</td>\n",
              "      <td>-0.182893</td>\n",
              "      <td>0.120741</td>\n",
              "      <td>-0.158713</td>\n",
              "      <td>-0.077712</td>\n",
              "      <td>0.008842</td>\n",
              "      <td>-0.133573</td>\n",
              "      <td>0.030468</td>\n",
              "      <td>-0.225340</td>\n",
              "      <td>0.060964</td>\n",
              "      <td>0.047286</td>\n",
              "      <td>0.195375</td>\n",
              "      <td>0.066941</td>\n",
              "      <td>-0.076980</td>\n",
              "      <td>0</td>\n",
              "      <td>1</td>\n",
              "      <td>0</td>\n",
              "      <td>0</td>\n",
              "      <td>0</td>\n",
              "      <td>0</td>\n",
              "      <td>0</td>\n",
              "      <td>0</td>\n",
              "      <td>0</td>\n",
              "      <td>0</td>\n",
              "      <td>0</td>\n",
              "      <td>0</td>\n",
              "      <td>0</td>\n",
              "      <td>0</td>\n",
              "      <td>0</td>\n",
              "      <td>0</td>\n",
              "      <td>0</td>\n",
              "      <td>0</td>\n",
              "      <td>0</td>\n",
              "      <td>0</td>\n",
              "      <td>0.333660</td>\n",
              "      <td>0.161552</td>\n",
              "      <td>0.120748</td>\n",
              "      <td>0.167415</td>\n",
              "    </tr>\n",
              "    <tr>\n",
              "      <th>2</th>\n",
              "      <td>3</td>\n",
              "      <td>-0.157183</td>\n",
              "      <td>0.009618</td>\n",
              "      <td>0.088339</td>\n",
              "      <td>-0.084143</td>\n",
              "      <td>0.094306</td>\n",
              "      <td>-0.351647</td>\n",
              "      <td>-0.034583</td>\n",
              "      <td>0.144340</td>\n",
              "      <td>-0.008939</td>\n",
              "      <td>-0.219161</td>\n",
              "      <td>-0.052356</td>\n",
              "      <td>0.286848</td>\n",
              "      <td>0.198618</td>\n",
              "      <td>-0.214440</td>\n",
              "      <td>-0.268811</td>\n",
              "      <td>0.150304</td>\n",
              "      <td>0.448504</td>\n",
              "      <td>-0.384054</td>\n",
              "      <td>0.057444</td>\n",
              "      <td>-0.138773</td>\n",
              "      <td>0.220159</td>\n",
              "      <td>0.288947</td>\n",
              "      <td>-0.352348</td>\n",
              "      <td>-0.050004</td>\n",
              "      <td>0.051974</td>\n",
              "      <td>0.038191</td>\n",
              "      <td>-0.202896</td>\n",
              "      <td>0.417181</td>\n",
              "      <td>0.010661</td>\n",
              "      <td>0.114940</td>\n",
              "      <td>0.244948</td>\n",
              "      <td>0.222384</td>\n",
              "      <td>0</td>\n",
              "      <td>0</td>\n",
              "      <td>1</td>\n",
              "      <td>0</td>\n",
              "      <td>0</td>\n",
              "      <td>0</td>\n",
              "      <td>0</td>\n",
              "      <td>0</td>\n",
              "      <td>0</td>\n",
              "      <td>0</td>\n",
              "      <td>0</td>\n",
              "      <td>0</td>\n",
              "      <td>0</td>\n",
              "      <td>0</td>\n",
              "      <td>0</td>\n",
              "      <td>0</td>\n",
              "      <td>0</td>\n",
              "      <td>0</td>\n",
              "      <td>0</td>\n",
              "      <td>0</td>\n",
              "      <td>0.153438</td>\n",
              "      <td>0.186358</td>\n",
              "      <td>0.148314</td>\n",
              "      <td>0.113224</td>\n",
              "    </tr>\n",
              "    <tr>\n",
              "      <th>3</th>\n",
              "      <td>4</td>\n",
              "      <td>-0.124824</td>\n",
              "      <td>-0.020829</td>\n",
              "      <td>0.109950</td>\n",
              "      <td>0.005343</td>\n",
              "      <td>-0.014215</td>\n",
              "      <td>-0.075313</td>\n",
              "      <td>-0.015466</td>\n",
              "      <td>0.142181</td>\n",
              "      <td>0.093969</td>\n",
              "      <td>0.049267</td>\n",
              "      <td>-0.040896</td>\n",
              "      <td>-0.058768</td>\n",
              "      <td>0.015671</td>\n",
              "      <td>0.000444</td>\n",
              "      <td>0.055295</td>\n",
              "      <td>-0.003689</td>\n",
              "      <td>0.235109</td>\n",
              "      <td>-0.218155</td>\n",
              "      <td>0.120014</td>\n",
              "      <td>-0.146563</td>\n",
              "      <td>0.243076</td>\n",
              "      <td>-0.017480</td>\n",
              "      <td>-0.035989</td>\n",
              "      <td>0.017321</td>\n",
              "      <td>-0.189579</td>\n",
              "      <td>0.234798</td>\n",
              "      <td>-0.151922</td>\n",
              "      <td>0.161062</td>\n",
              "      <td>-0.054403</td>\n",
              "      <td>0.262250</td>\n",
              "      <td>0.217358</td>\n",
              "      <td>0.176144</td>\n",
              "      <td>0</td>\n",
              "      <td>0</td>\n",
              "      <td>0</td>\n",
              "      <td>0</td>\n",
              "      <td>0</td>\n",
              "      <td>1</td>\n",
              "      <td>0</td>\n",
              "      <td>0</td>\n",
              "      <td>0</td>\n",
              "      <td>0</td>\n",
              "      <td>0</td>\n",
              "      <td>0</td>\n",
              "      <td>0</td>\n",
              "      <td>0</td>\n",
              "      <td>0</td>\n",
              "      <td>0</td>\n",
              "      <td>0</td>\n",
              "      <td>0</td>\n",
              "      <td>0</td>\n",
              "      <td>0</td>\n",
              "      <td>0.606095</td>\n",
              "      <td>0.376574</td>\n",
              "      <td>0.045419</td>\n",
              "      <td>0.033385</td>\n",
              "    </tr>\n",
              "    <tr>\n",
              "      <th>4</th>\n",
              "      <td>5</td>\n",
              "      <td>-0.261996</td>\n",
              "      <td>-0.288156</td>\n",
              "      <td>0.197021</td>\n",
              "      <td>-0.208817</td>\n",
              "      <td>1.027182</td>\n",
              "      <td>0.207817</td>\n",
              "      <td>-0.073727</td>\n",
              "      <td>0.010425</td>\n",
              "      <td>-0.029520</td>\n",
              "      <td>0.173434</td>\n",
              "      <td>0.076610</td>\n",
              "      <td>-0.029162</td>\n",
              "      <td>-0.006886</td>\n",
              "      <td>0.002491</td>\n",
              "      <td>0.105421</td>\n",
              "      <td>0.066087</td>\n",
              "      <td>-0.081108</td>\n",
              "      <td>0.155968</td>\n",
              "      <td>0.103546</td>\n",
              "      <td>-0.086449</td>\n",
              "      <td>-0.114413</td>\n",
              "      <td>-0.202190</td>\n",
              "      <td>-0.498856</td>\n",
              "      <td>-0.183288</td>\n",
              "      <td>0.200243</td>\n",
              "      <td>0.339281</td>\n",
              "      <td>0.049975</td>\n",
              "      <td>-0.064397</td>\n",
              "      <td>-0.205344</td>\n",
              "      <td>-0.324963</td>\n",
              "      <td>0.335434</td>\n",
              "      <td>-0.181493</td>\n",
              "      <td>0</td>\n",
              "      <td>0</td>\n",
              "      <td>0</td>\n",
              "      <td>0</td>\n",
              "      <td>0</td>\n",
              "      <td>0</td>\n",
              "      <td>0</td>\n",
              "      <td>0</td>\n",
              "      <td>0</td>\n",
              "      <td>0</td>\n",
              "      <td>0</td>\n",
              "      <td>0</td>\n",
              "      <td>0</td>\n",
              "      <td>0</td>\n",
              "      <td>0</td>\n",
              "      <td>1</td>\n",
              "      <td>0</td>\n",
              "      <td>0</td>\n",
              "      <td>0</td>\n",
              "      <td>0</td>\n",
              "      <td>0.206979</td>\n",
              "      <td>0.045804</td>\n",
              "      <td>0.141537</td>\n",
              "      <td>0.142070</td>\n",
              "    </tr>\n",
              "    <tr>\n",
              "      <th>...</th>\n",
              "      <td>...</td>\n",
              "      <td>...</td>\n",
              "      <td>...</td>\n",
              "      <td>...</td>\n",
              "      <td>...</td>\n",
              "      <td>...</td>\n",
              "      <td>...</td>\n",
              "      <td>...</td>\n",
              "      <td>...</td>\n",
              "      <td>...</td>\n",
              "      <td>...</td>\n",
              "      <td>...</td>\n",
              "      <td>...</td>\n",
              "      <td>...</td>\n",
              "      <td>...</td>\n",
              "      <td>...</td>\n",
              "      <td>...</td>\n",
              "      <td>...</td>\n",
              "      <td>...</td>\n",
              "      <td>...</td>\n",
              "      <td>...</td>\n",
              "      <td>...</td>\n",
              "      <td>...</td>\n",
              "      <td>...</td>\n",
              "      <td>...</td>\n",
              "      <td>...</td>\n",
              "      <td>...</td>\n",
              "      <td>...</td>\n",
              "      <td>...</td>\n",
              "      <td>...</td>\n",
              "      <td>...</td>\n",
              "      <td>...</td>\n",
              "      <td>...</td>\n",
              "      <td>...</td>\n",
              "      <td>...</td>\n",
              "      <td>...</td>\n",
              "      <td>...</td>\n",
              "      <td>...</td>\n",
              "      <td>...</td>\n",
              "      <td>...</td>\n",
              "      <td>...</td>\n",
              "      <td>...</td>\n",
              "      <td>...</td>\n",
              "      <td>...</td>\n",
              "      <td>...</td>\n",
              "      <td>...</td>\n",
              "      <td>...</td>\n",
              "      <td>...</td>\n",
              "      <td>...</td>\n",
              "      <td>...</td>\n",
              "      <td>...</td>\n",
              "      <td>...</td>\n",
              "      <td>...</td>\n",
              "      <td>...</td>\n",
              "      <td>...</td>\n",
              "      <td>...</td>\n",
              "      <td>...</td>\n",
              "    </tr>\n",
              "    <tr>\n",
              "      <th>24265</th>\n",
              "      <td>24266</td>\n",
              "      <td>-0.010896</td>\n",
              "      <td>0.004925</td>\n",
              "      <td>0.007012</td>\n",
              "      <td>-0.011154</td>\n",
              "      <td>0.000564</td>\n",
              "      <td>-0.010630</td>\n",
              "      <td>-0.005717</td>\n",
              "      <td>-0.001522</td>\n",
              "      <td>0.008626</td>\n",
              "      <td>0.014121</td>\n",
              "      <td>-0.019016</td>\n",
              "      <td>0.037802</td>\n",
              "      <td>-0.001078</td>\n",
              "      <td>-0.013989</td>\n",
              "      <td>-0.018770</td>\n",
              "      <td>0.008523</td>\n",
              "      <td>0.034514</td>\n",
              "      <td>-0.017024</td>\n",
              "      <td>0.005374</td>\n",
              "      <td>-0.046948</td>\n",
              "      <td>-0.003899</td>\n",
              "      <td>0.079196</td>\n",
              "      <td>-0.053429</td>\n",
              "      <td>0.020552</td>\n",
              "      <td>-0.002427</td>\n",
              "      <td>-0.002476</td>\n",
              "      <td>-0.025327</td>\n",
              "      <td>0.034288</td>\n",
              "      <td>0.014308</td>\n",
              "      <td>-0.033501</td>\n",
              "      <td>0.008387</td>\n",
              "      <td>-0.038547</td>\n",
              "      <td>0</td>\n",
              "      <td>0</td>\n",
              "      <td>1</td>\n",
              "      <td>0</td>\n",
              "      <td>0</td>\n",
              "      <td>0</td>\n",
              "      <td>0</td>\n",
              "      <td>0</td>\n",
              "      <td>0</td>\n",
              "      <td>0</td>\n",
              "      <td>0</td>\n",
              "      <td>0</td>\n",
              "      <td>0</td>\n",
              "      <td>0</td>\n",
              "      <td>0</td>\n",
              "      <td>0</td>\n",
              "      <td>0</td>\n",
              "      <td>0</td>\n",
              "      <td>0</td>\n",
              "      <td>0</td>\n",
              "      <td>0.000000</td>\n",
              "      <td>0.000000</td>\n",
              "      <td>0.000000</td>\n",
              "      <td>0.000000</td>\n",
              "    </tr>\n",
              "    <tr>\n",
              "      <th>24266</th>\n",
              "      <td>24267</td>\n",
              "      <td>-2.731792</td>\n",
              "      <td>-0.959017</td>\n",
              "      <td>1.253861</td>\n",
              "      <td>-6.583517</td>\n",
              "      <td>-1.504298</td>\n",
              "      <td>0.022879</td>\n",
              "      <td>0.196071</td>\n",
              "      <td>-0.032315</td>\n",
              "      <td>-0.982337</td>\n",
              "      <td>-1.450639</td>\n",
              "      <td>0.279417</td>\n",
              "      <td>0.566180</td>\n",
              "      <td>-0.714064</td>\n",
              "      <td>-0.577180</td>\n",
              "      <td>0.096931</td>\n",
              "      <td>-0.477940</td>\n",
              "      <td>0.703578</td>\n",
              "      <td>-0.587980</td>\n",
              "      <td>1.288119</td>\n",
              "      <td>0.614030</td>\n",
              "      <td>0.518917</td>\n",
              "      <td>-0.745404</td>\n",
              "      <td>0.007736</td>\n",
              "      <td>0.971479</td>\n",
              "      <td>-0.145516</td>\n",
              "      <td>-0.018189</td>\n",
              "      <td>0.606251</td>\n",
              "      <td>-1.416552</td>\n",
              "      <td>0.598602</td>\n",
              "      <td>0.735568</td>\n",
              "      <td>0.776244</td>\n",
              "      <td>-1.247025</td>\n",
              "      <td>1</td>\n",
              "      <td>0</td>\n",
              "      <td>0</td>\n",
              "      <td>0</td>\n",
              "      <td>0</td>\n",
              "      <td>0</td>\n",
              "      <td>0</td>\n",
              "      <td>0</td>\n",
              "      <td>0</td>\n",
              "      <td>0</td>\n",
              "      <td>0</td>\n",
              "      <td>0</td>\n",
              "      <td>0</td>\n",
              "      <td>0</td>\n",
              "      <td>0</td>\n",
              "      <td>0</td>\n",
              "      <td>0</td>\n",
              "      <td>0</td>\n",
              "      <td>0</td>\n",
              "      <td>0</td>\n",
              "      <td>0.565893</td>\n",
              "      <td>0.307838</td>\n",
              "      <td>0.024954</td>\n",
              "      <td>0.060579</td>\n",
              "    </tr>\n",
              "    <tr>\n",
              "      <th>24267</th>\n",
              "      <td>24268</td>\n",
              "      <td>-7.198960</td>\n",
              "      <td>10.708150</td>\n",
              "      <td>0.430730</td>\n",
              "      <td>1.046649</td>\n",
              "      <td>1.454021</td>\n",
              "      <td>0.975385</td>\n",
              "      <td>1.383204</td>\n",
              "      <td>-1.660526</td>\n",
              "      <td>0.271799</td>\n",
              "      <td>-1.190920</td>\n",
              "      <td>0.372417</td>\n",
              "      <td>-0.687531</td>\n",
              "      <td>0.173958</td>\n",
              "      <td>0.583410</td>\n",
              "      <td>-0.282779</td>\n",
              "      <td>-0.153792</td>\n",
              "      <td>0.050191</td>\n",
              "      <td>-0.640269</td>\n",
              "      <td>0.460688</td>\n",
              "      <td>0.003904</td>\n",
              "      <td>-0.433184</td>\n",
              "      <td>-0.328148</td>\n",
              "      <td>-0.073391</td>\n",
              "      <td>-0.399192</td>\n",
              "      <td>0.042157</td>\n",
              "      <td>-0.445394</td>\n",
              "      <td>-0.309775</td>\n",
              "      <td>0.335697</td>\n",
              "      <td>0.058461</td>\n",
              "      <td>0.097435</td>\n",
              "      <td>-0.864148</td>\n",
              "      <td>-0.488758</td>\n",
              "      <td>0</td>\n",
              "      <td>1</td>\n",
              "      <td>0</td>\n",
              "      <td>0</td>\n",
              "      <td>0</td>\n",
              "      <td>0</td>\n",
              "      <td>0</td>\n",
              "      <td>0</td>\n",
              "      <td>0</td>\n",
              "      <td>0</td>\n",
              "      <td>0</td>\n",
              "      <td>0</td>\n",
              "      <td>0</td>\n",
              "      <td>0</td>\n",
              "      <td>0</td>\n",
              "      <td>0</td>\n",
              "      <td>0</td>\n",
              "      <td>0</td>\n",
              "      <td>0</td>\n",
              "      <td>0</td>\n",
              "      <td>0.293801</td>\n",
              "      <td>0.371082</td>\n",
              "      <td>0.073013</td>\n",
              "      <td>0.107677</td>\n",
              "    </tr>\n",
              "    <tr>\n",
              "      <th>24268</th>\n",
              "      <td>24269</td>\n",
              "      <td>-0.124824</td>\n",
              "      <td>-0.020829</td>\n",
              "      <td>0.109950</td>\n",
              "      <td>0.005343</td>\n",
              "      <td>-0.014215</td>\n",
              "      <td>-0.075313</td>\n",
              "      <td>-0.015466</td>\n",
              "      <td>0.142181</td>\n",
              "      <td>0.093969</td>\n",
              "      <td>0.049267</td>\n",
              "      <td>-0.040896</td>\n",
              "      <td>-0.058768</td>\n",
              "      <td>0.015671</td>\n",
              "      <td>0.000444</td>\n",
              "      <td>0.055295</td>\n",
              "      <td>-0.003689</td>\n",
              "      <td>0.235109</td>\n",
              "      <td>-0.218155</td>\n",
              "      <td>0.120014</td>\n",
              "      <td>-0.146563</td>\n",
              "      <td>0.243076</td>\n",
              "      <td>-0.017480</td>\n",
              "      <td>-0.035989</td>\n",
              "      <td>0.017321</td>\n",
              "      <td>-0.189579</td>\n",
              "      <td>0.234798</td>\n",
              "      <td>-0.151922</td>\n",
              "      <td>0.161062</td>\n",
              "      <td>-0.054403</td>\n",
              "      <td>0.262250</td>\n",
              "      <td>0.217358</td>\n",
              "      <td>0.176144</td>\n",
              "      <td>0</td>\n",
              "      <td>0</td>\n",
              "      <td>0</td>\n",
              "      <td>0</td>\n",
              "      <td>1</td>\n",
              "      <td>0</td>\n",
              "      <td>0</td>\n",
              "      <td>0</td>\n",
              "      <td>0</td>\n",
              "      <td>0</td>\n",
              "      <td>0</td>\n",
              "      <td>0</td>\n",
              "      <td>0</td>\n",
              "      <td>0</td>\n",
              "      <td>0</td>\n",
              "      <td>0</td>\n",
              "      <td>0</td>\n",
              "      <td>0</td>\n",
              "      <td>0</td>\n",
              "      <td>0</td>\n",
              "      <td>0.000000</td>\n",
              "      <td>0.000000</td>\n",
              "      <td>0.000000</td>\n",
              "      <td>0.000000</td>\n",
              "    </tr>\n",
              "    <tr>\n",
              "      <th>24269</th>\n",
              "      <td>24270</td>\n",
              "      <td>-0.007510</td>\n",
              "      <td>0.002892</td>\n",
              "      <td>0.006003</td>\n",
              "      <td>-0.008288</td>\n",
              "      <td>0.001388</td>\n",
              "      <td>-0.009587</td>\n",
              "      <td>-0.002597</td>\n",
              "      <td>-0.001651</td>\n",
              "      <td>0.007500</td>\n",
              "      <td>0.005377</td>\n",
              "      <td>-0.014132</td>\n",
              "      <td>0.024988</td>\n",
              "      <td>0.000546</td>\n",
              "      <td>-0.010660</td>\n",
              "      <td>-0.017597</td>\n",
              "      <td>0.006302</td>\n",
              "      <td>0.023571</td>\n",
              "      <td>-0.013865</td>\n",
              "      <td>0.005722</td>\n",
              "      <td>-0.030666</td>\n",
              "      <td>-0.003915</td>\n",
              "      <td>0.054639</td>\n",
              "      <td>-0.036781</td>\n",
              "      <td>0.018083</td>\n",
              "      <td>-0.004836</td>\n",
              "      <td>-0.001371</td>\n",
              "      <td>-0.018559</td>\n",
              "      <td>0.026180</td>\n",
              "      <td>0.011409</td>\n",
              "      <td>-0.026717</td>\n",
              "      <td>0.009286</td>\n",
              "      <td>-0.029503</td>\n",
              "      <td>1</td>\n",
              "      <td>0</td>\n",
              "      <td>0</td>\n",
              "      <td>0</td>\n",
              "      <td>0</td>\n",
              "      <td>0</td>\n",
              "      <td>0</td>\n",
              "      <td>0</td>\n",
              "      <td>0</td>\n",
              "      <td>0</td>\n",
              "      <td>0</td>\n",
              "      <td>0</td>\n",
              "      <td>0</td>\n",
              "      <td>0</td>\n",
              "      <td>0</td>\n",
              "      <td>0</td>\n",
              "      <td>0</td>\n",
              "      <td>0</td>\n",
              "      <td>0</td>\n",
              "      <td>0</td>\n",
              "      <td>0.000000</td>\n",
              "      <td>0.000000</td>\n",
              "      <td>0.000000</td>\n",
              "      <td>0.000000</td>\n",
              "    </tr>\n",
              "  </tbody>\n",
              "</table>\n",
              "<p>24270 rows × 57 columns</p>\n",
              "</div>"
            ],
            "text/plain": [
              "          0         1          2   ...        54        55        56\n",
              "0          1 -0.007510   0.002892  ...  0.193252  0.139495  0.151400\n",
              "1          2 -0.172181  -0.082732  ...  0.161552  0.120748  0.167415\n",
              "2          3 -0.157183   0.009618  ...  0.186358  0.148314  0.113224\n",
              "3          4 -0.124824  -0.020829  ...  0.376574  0.045419  0.033385\n",
              "4          5 -0.261996  -0.288156  ...  0.045804  0.141537  0.142070\n",
              "...      ...       ...        ...  ...       ...       ...       ...\n",
              "24265  24266 -0.010896   0.004925  ...  0.000000  0.000000  0.000000\n",
              "24266  24267 -2.731792  -0.959017  ...  0.307838  0.024954  0.060579\n",
              "24267  24268 -7.198960  10.708150  ...  0.371082  0.073013  0.107677\n",
              "24268  24269 -0.124824  -0.020829  ...  0.000000  0.000000  0.000000\n",
              "24269  24270 -0.007510   0.002892  ...  0.000000  0.000000  0.000000\n",
              "\n",
              "[24270 rows x 57 columns]"
            ]
          },
          "metadata": {},
          "execution_count": 69
        }
      ]
    },
    {
      "cell_type": "markdown",
      "metadata": {
        "id": "cyOVXOqsGB-q"
      },
      "source": [
        "**Algorithm 2: Hausdorff distance calculation**\n",
        "\n"
      ]
    },
    {
      "cell_type": "code",
      "metadata": {
        "id": "zuzVAUWPqYjR"
      },
      "source": [
        "##calculating hausdoff distance for each data points of each clusters\n",
        "from scipy.spatial.distance import directed_hausdorff\n",
        "\n",
        "ddict = {'sartist':[],\n",
        "        'dartist':[],\n",
        "        'distance':[]\n",
        "       }\n",
        "  \n",
        "ddf = pd.DataFrame(ddict)\n",
        "count = 0\n",
        "\n",
        "for i in range(10):\n",
        "  for j in d[i]:\n",
        "    #print(len(d[i]))\n",
        "    count = count+1\n",
        "    #print(count)\n",
        "    for k in d[i]:\n",
        "      if(j!=k):\n",
        "        u = np.array(df[df[0]==j].drop([0], axis=1))\n",
        "        v = np.array(df[df[0]==k].drop([0], axis=1))\n",
        "        ddf.loc[len(ddf.index)] = [j, k, directed_hausdorff(u,v)[0]]"
      ],
      "execution_count": null,
      "outputs": []
    },
    {
      "cell_type": "code",
      "metadata": {
        "id": "pNkDPQkVdQLz"
      },
      "source": [
        "ddf[\"sartist\"] = ddf[\"sartist\"].astype(int)\n",
        "ddf[\"dartist\"] = ddf[\"dartist\"].astype(int)"
      ],
      "execution_count": 42,
      "outputs": []
    },
    {
      "cell_type": "code",
      "metadata": {
        "id": "VkcyWPrJkPBl"
      },
      "source": [
        "s = \"CREATE \"\n",
        "for i in list(ddf[\"sartist\"].unique()):\n",
        "  #print(i)\n",
        "  s = s+\"(artist\"+str(i)+\":ARTIST{name:'artist\"+str(int(i))+\"'})\"\n",
        "  # if(i<24269):\n",
        "  s=s+\",\""
      ],
      "execution_count": 74,
      "outputs": []
    },
    {
      "cell_type": "code",
      "metadata": {
        "id": "pJWbuHbfhdQC"
      },
      "source": [
        "d = \"\"\n",
        "for k in len(d):\n",
        "  for i in k:\n",
        "    d = d+\"(artist\"+str(int(ddf.iloc[i][\"sartist\"]))+\")-[:CONNECTED{cost:\"+str(ddf.iloc[i][\"distance\"].round(4))+\"}]->(artist\"+str(int(ddf.iloc[i][\"dartist\"]))+\")\"\n",
        "    if(i<len(k)-1):\n",
        "      d = d+\",\"\n",
        "    else:\n",
        "      d = d+\";\""
      ],
      "execution_count": 75,
      "outputs": []
    },
    {
      "cell_type": "code",
      "metadata": {
        "id": "ujuuLVConGU4"
      },
      "source": [
        "s = s+d\n",
        "text_file = open(\"custerfull.cypher\", \"w\")\n",
        "n = text_file.write(s)\n",
        "text_file.close()"
      ],
      "execution_count": 76,
      "outputs": []
    },
    {
      "cell_type": "markdown",
      "metadata": {
        "id": "lyypgQeg1HxU"
      },
      "source": [
        "**Comments:**\n",
        "\n",
        "\n",
        "The idea is that distance between two artists need not to be symmetric. ie., d(A,B) need not to be equal to d(B,A). Hence calculated the Hausdorff distance(non-symmetric) between all points in a cluster."
      ]
    },
    {
      "cell_type": "markdown",
      "metadata": {
        "id": "okLUTcdyQw6k"
      },
      "source": [
        "**Algorithm:Single Source Shortest Path**"
      ]
    },
    {
      "cell_type": "code",
      "metadata": {
        "id": "pzdtXiVeTg_1"
      },
      "source": [
        "# For loading the cypher query\n",
        "# bin\\cypher-shell.bat -f custer.cypher"
      ],
      "execution_count": null,
      "outputs": []
    },
    {
      "cell_type": "code",
      "metadata": {
        "id": "gf6PxqcsQwiS"
      },
      "source": [
        "# Single source Shortest Path Parameter setting which defines the top-k recommended artists\n",
        "\n",
        "\n",
        "\n",
        "# :param limit => ( 10);\n",
        "# :param config => ({\n",
        "#   nodeProjection: 'ARTIST',\n",
        "#   relationshipProjection: {\n",
        "#     relType: {\n",
        "#       type: 'CONNECTED',\n",
        "#       orientation: 'NATURAL',\n",
        "#       properties: {\n",
        "#         cost: {\n",
        "#           property: 'cost',\n",
        "#           defaultValue: 1\n",
        "#         }\n",
        "#       }\n",
        "#     }\n",
        "#   },\n",
        "#   relationshipWeightProperty: 'cost'\n",
        "# });\n",
        "# :param startNode => ('artist1617');\n",
        "# :param endNode => (null);\n",
        "# :param communityNodeLimit => ( 10);"
      ],
      "execution_count": null,
      "outputs": []
    },
    {
      "cell_type": "code",
      "metadata": {
        "id": "qaxgAO5VQ7PH"
      },
      "source": [
        "# SSSp Algorithm implementation\n",
        "\n",
        "# CALL db.propertyKeys() YIELD propertyKey MATCH (start) WHERE start[propertyKey] contains $startNode\n",
        "# WITH start\n",
        "# LIMIT 1\n",
        "# WITH $config AS config, start\n",
        "# WITH config { .*, sourceNode: id(start)} as config\n",
        "# CALL gds.allShortestPaths.dijkstra.stream(config)\n",
        "# YIELD targetNode AS nodeId, totalCost AS cost\n",
        "# RETURN gds.util.asNode(nodeId) AS node, cost\n",
        "# LIMIT toInteger($limit)"
      ],
      "execution_count": null,
      "outputs": []
    },
    {
      "cell_type": "markdown",
      "metadata": {
        "id": "4Z7SOGNEhJtC"
      },
      "source": [
        "#Evaluations"
      ]
    },
    {
      "cell_type": "markdown",
      "metadata": {
        "id": "MO-6mkjn_f-u"
      },
      "source": [
        "**Evaluation Num:1**\n",
        "\n",
        "Since the ground truths are unknown, Davies Bouldin score is used to evaluate the KMeans Constrained clustering."
      ]
    },
    {
      "cell_type": "code",
      "metadata": {
        "colab": {
          "base_uri": "https://localhost:8080/"
        },
        "id": "4Yl5rfHKeMN-",
        "outputId": "933fc46b-de3d-4389-f5e6-3f166f119318"
      },
      "source": [
        "print(\"Davies Bouldin Score : \",davies_bouldin_score(df.iloc[:,1:], kmeans.labels_).round(2))"
      ],
      "execution_count": 130,
      "outputs": [
        {
          "output_type": "stream",
          "name": "stdout",
          "text": [
            "Davies Bouldin Score :  0.77\n"
          ]
        }
      ]
    },
    {
      "cell_type": "markdown",
      "metadata": {
        "id": "1UXX4GQnAahA"
      },
      "source": [
        "Comments:\n",
        "\n",
        "Provided the densely connected network, davies_bouldin_score of 0.77 seems to be a better score.\n",
        "\n",
        "\n",
        "1) Dataset separation is not so clear. For example: Genres in the dataset are not clearly separated. ie., a 'rock' genre song might also contains some elements of other genre like 'metal'.\n",
        "\n",
        "\n",
        "2) If the clusters become more sparse, there could be a potential cold-start problem in the network. Hence, among the various values, k-value of 122 gave the better result."
      ]
    },
    {
      "cell_type": "markdown",
      "metadata": {
        "id": "kErt79ZkAbh5"
      },
      "source": [
        "**Evaluation Num:2**"
      ]
    },
    {
      "cell_type": "code",
      "metadata": {
        "id": "JXQ07O2MSvrB"
      },
      "source": [
        "f = kmeans.predict(df.iloc[:,1:])"
      ],
      "execution_count": null,
      "outputs": []
    },
    {
      "cell_type": "code",
      "metadata": {
        "colab": {
          "base_uri": "https://localhost:8080/",
          "height": 265
        },
        "id": "zWJXSeikBDP1",
        "outputId": "4b25091f-429b-4fd3-cfba-cc2459d5b8f4"
      },
      "source": [
        "plt.scatter(df.iloc[:,1:][1],df.iloc[:,1:][2], c=f, s=50, cmap='viridis')\n",
        "centers = kmeans.cluster_centers_\n",
        "plt.scatter(centers[:, 0], centers[:, 1], c='black', s=200, alpha=0.5);"
      ],
      "execution_count": 126,
      "outputs": [
        {
          "output_type": "display_data",
          "data": {
            "image/png": "[encoded data removed]",
            "text/plain": [
              "<Figure size 432x288 with 1 Axes>"
            ]
          },
          "metadata": {
            "image/png": {
              "width": 367,
              "height": 248
            },
            "needs_background": "light"
          }
        }
      ]
    },
    {
      "cell_type": "markdown",
      "metadata": {
        "id": "JCb4nHfvTAhh"
      },
      "source": [
        "Comments:\n",
        "\n",
        "From the graph we can see that the data points are densely connected to form clusters.\n",
        "\n",
        "We can also see that the clusters are separated compatively well to find the nearest neighbours.So, our KMeans constrained algorithm with k=122  works well."
      ]
    },
    {
      "cell_type": "markdown",
      "metadata": {
        "id": "GW6masR2u_4x"
      },
      "source": [
        "**Empirical Method:3**"
      ]
    },
    {
      "cell_type": "code",
      "metadata": {
        "colab": {
          "base_uri": "https://localhost:8080/"
        },
        "id": "u4awgcg-vGuy",
        "outputId": "e0269415-75d6-448d-f5a8-04d7c858854e"
      },
      "source": [
        "import math\n",
        "print(\"Emperical technique: \",math.sqrt(df.shape[0]/2))"
      ],
      "execution_count": 140,
      "outputs": [
        {
          "output_type": "stream",
          "name": "stdout",
          "text": [
            "Emperical technique:  110.15897603009934\n"
          ]
        }
      ]
    },
    {
      "cell_type": "markdown",
      "metadata": {
        "id": "4PI5SAIpwkpN"
      },
      "source": [
        "Comments:\n",
        "\n",
        "Empirical technique is a basic evaluation methodology to determine k. Here, we could see that with empirical technique we got the k value as 110 which is an approximation of the K-value we have used. \n"
      ]
    }
  ]
}