{
  "nbformat": 4,
  "nbformat_minor": 0,
  "metadata": {
    "colab": {
      "name": "256-term project.ipynb",
      "provenance": [],
      "collapsed_sections": []
    },
    "kernelspec": {
      "name": "python3",
      "display_name": "Python 3"
    },
    "language_info": {
      "name": "python"
    }
  },
  "cells": [
    {
      "cell_type": "code",
      "metadata": {
        "colab": {
          "base_uri": "https://localhost:8080/"
        },
        "id": "XiGYkexTtVh6",
        "outputId": "b9e6a50a-5ac7-4a60-acb0-c3ace1b33842"
      },
      "source": [
        "!pip install scikit-surprise"
      ],
      "execution_count": null,
      "outputs": [
        {
          "output_type": "stream",
          "name": "stdout",
          "text": [
            "Collecting scikit-surprise\n",
            "  Downloading scikit-surprise-1.1.1.tar.gz (11.8 MB)\n",
            "\u001b[K     |████████████████████████████████| 11.8 MB 5.4 MB/s \n",
            "\u001b[?25hRequirement already satisfied: joblib>=0.11 in /usr/local/lib/python3.7/dist-packages (from scikit-surprise) (1.1.0)\n",
            "Requirement already satisfied: numpy>=1.11.2 in /usr/local/lib/python3.7/dist-packages (from scikit-surprise) (1.19.5)\n",
            "Requirement already satisfied: scipy>=1.0.0 in /usr/local/lib/python3.7/dist-packages (from scikit-surprise) (1.4.1)\n",
            "Requirement already satisfied: six>=1.10.0 in /usr/local/lib/python3.7/dist-packages (from scikit-surprise) (1.15.0)\n",
            "Building wheels for collected packages: scikit-surprise\n",
            "  Building wheel for scikit-surprise (setup.py) ... \u001b[?25l\u001b[?25hdone\n",
            "  Created wheel for scikit-surprise: filename=scikit_surprise-1.1.1-cp37-cp37m-linux_x86_64.whl size=1619456 sha256=2840fcf27f4bb5ec07b9993e8401d83083070c4b0adcbb42e3d4a231e4e24d20\n",
            "  Stored in directory: /root/.cache/pip/wheels/76/44/74/b498c42be47b2406bd27994e16c5188e337c657025ab400c1c\n",
            "Successfully built scikit-surprise\n",
            "Installing collected packages: scikit-surprise\n",
            "Successfully installed scikit-surprise-1.1.1\n"
          ]
        }
      ]
    },
    {
      "cell_type": "code",
      "metadata": {
        "id": "aFBcPeMKrXiU"
      },
      "source": [
        "import pandas as pd\n",
        "from surprise import accuracy"
      ],
      "execution_count": 88,
      "outputs": []
    },
    {
      "cell_type": "code",
      "metadata": {
        "id": "Jygn7hgIlljR"
      },
      "source": [
        "from surprise import SVD\n",
        "from surprise import Dataset, Reader\n",
        "from surprise.model_selection import cross_validate, GridSearchCV, train_test_split"
      ],
      "execution_count": 82,
      "outputs": []
    },
    {
      "cell_type": "code",
      "metadata": {
        "colab": {
          "base_uri": "https://localhost:8080/"
        },
        "id": "2AyW6qX_rlOf",
        "outputId": "e4dc1c9f-e699-4080-d514-342cc0df8b5e"
      },
      "source": [
        "from google.colab import drive\n",
        "drive.mount('/content/drive')"
      ],
      "execution_count": null,
      "outputs": [
        {
          "output_type": "stream",
          "name": "stdout",
          "text": [
            "Mounted at /content/drive\n"
          ]
        }
      ]
    },
    {
      "cell_type": "code",
      "metadata": {
        "id": "sac2FYSBrmP4"
      },
      "source": [
        "file_dir = '/content/drive/MyDrive/256-project/deezer_features.csv'"
      ],
      "execution_count": null,
      "outputs": []
    },
    {
      "cell_type": "code",
      "metadata": {
        "id": "mhfbtuabr57v"
      },
      "source": [
        "df = pd.read_csv(file_dir, header=None)"
      ],
      "execution_count": null,
      "outputs": []
    },
    {
      "cell_type": "code",
      "metadata": {
        "colab": {
          "base_uri": "https://localhost:8080/",
          "height": 224
        },
        "id": "_qb6UACYr-qZ",
        "outputId": "0fe77afd-ccbe-42cf-e1e9-c6864cf97462"
      },
      "source": [
        "df.head()"
      ],
      "execution_count": null,
      "outputs": [
        {
          "output_type": "execute_result",
          "data": {
            "text/html": [
              "<div>\n",
              "<style scoped>\n",
              "    .dataframe tbody tr th:only-of-type {\n",
              "        vertical-align: middle;\n",
              "    }\n",
              "\n",
              "    .dataframe tbody tr th {\n",
              "        vertical-align: top;\n",
              "    }\n",
              "\n",
              "    .dataframe thead th {\n",
              "        text-align: right;\n",
              "    }\n",
              "</style>\n",
              "<table border=\"1\" class=\"dataframe\">\n",
              "  <thead>\n",
              "    <tr style=\"text-align: right;\">\n",
              "      <th></th>\n",
              "      <th>0</th>\n",
              "      <th>1</th>\n",
              "      <th>2</th>\n",
              "      <th>3</th>\n",
              "      <th>4</th>\n",
              "      <th>5</th>\n",
              "      <th>6</th>\n",
              "      <th>7</th>\n",
              "      <th>8</th>\n",
              "      <th>9</th>\n",
              "      <th>10</th>\n",
              "      <th>11</th>\n",
              "      <th>12</th>\n",
              "      <th>13</th>\n",
              "      <th>14</th>\n",
              "      <th>15</th>\n",
              "      <th>16</th>\n",
              "      <th>17</th>\n",
              "      <th>18</th>\n",
              "      <th>19</th>\n",
              "      <th>20</th>\n",
              "      <th>21</th>\n",
              "      <th>22</th>\n",
              "      <th>23</th>\n",
              "      <th>24</th>\n",
              "      <th>25</th>\n",
              "      <th>26</th>\n",
              "      <th>27</th>\n",
              "      <th>28</th>\n",
              "      <th>29</th>\n",
              "      <th>30</th>\n",
              "      <th>31</th>\n",
              "      <th>32</th>\n",
              "      <th>33</th>\n",
              "      <th>34</th>\n",
              "      <th>35</th>\n",
              "      <th>36</th>\n",
              "      <th>37</th>\n",
              "      <th>38</th>\n",
              "      <th>39</th>\n",
              "      <th>40</th>\n",
              "      <th>41</th>\n",
              "      <th>42</th>\n",
              "      <th>43</th>\n",
              "      <th>44</th>\n",
              "      <th>45</th>\n",
              "      <th>46</th>\n",
              "      <th>47</th>\n",
              "      <th>48</th>\n",
              "      <th>49</th>\n",
              "      <th>50</th>\n",
              "      <th>51</th>\n",
              "      <th>52</th>\n",
              "      <th>53</th>\n",
              "      <th>54</th>\n",
              "      <th>55</th>\n",
              "      <th>56</th>\n",
              "    </tr>\n",
              "  </thead>\n",
              "  <tbody>\n",
              "    <tr>\n",
              "      <th>0</th>\n",
              "      <td>1</td>\n",
              "      <td>-0.007510</td>\n",
              "      <td>0.002892</td>\n",
              "      <td>0.006003</td>\n",
              "      <td>-0.008288</td>\n",
              "      <td>0.001388</td>\n",
              "      <td>-0.009587</td>\n",
              "      <td>-0.002597</td>\n",
              "      <td>-0.001651</td>\n",
              "      <td>0.007500</td>\n",
              "      <td>0.005377</td>\n",
              "      <td>-0.014132</td>\n",
              "      <td>0.024988</td>\n",
              "      <td>0.000546</td>\n",
              "      <td>-0.010660</td>\n",
              "      <td>-0.017597</td>\n",
              "      <td>0.006302</td>\n",
              "      <td>0.023571</td>\n",
              "      <td>-0.013865</td>\n",
              "      <td>0.005722</td>\n",
              "      <td>-0.030666</td>\n",
              "      <td>-0.003915</td>\n",
              "      <td>0.054639</td>\n",
              "      <td>-0.036781</td>\n",
              "      <td>0.018083</td>\n",
              "      <td>-0.004836</td>\n",
              "      <td>-0.001371</td>\n",
              "      <td>-0.018559</td>\n",
              "      <td>0.026180</td>\n",
              "      <td>0.011409</td>\n",
              "      <td>-0.026717</td>\n",
              "      <td>0.009286</td>\n",
              "      <td>-0.029503</td>\n",
              "      <td>0</td>\n",
              "      <td>0</td>\n",
              "      <td>1</td>\n",
              "      <td>0</td>\n",
              "      <td>0</td>\n",
              "      <td>0</td>\n",
              "      <td>0</td>\n",
              "      <td>0</td>\n",
              "      <td>0</td>\n",
              "      <td>0</td>\n",
              "      <td>0</td>\n",
              "      <td>0</td>\n",
              "      <td>0</td>\n",
              "      <td>0</td>\n",
              "      <td>0</td>\n",
              "      <td>0</td>\n",
              "      <td>0</td>\n",
              "      <td>0</td>\n",
              "      <td>0</td>\n",
              "      <td>0</td>\n",
              "      <td>0.459391</td>\n",
              "      <td>0.193252</td>\n",
              "      <td>0.139495</td>\n",
              "      <td>0.151400</td>\n",
              "    </tr>\n",
              "    <tr>\n",
              "      <th>1</th>\n",
              "      <td>2</td>\n",
              "      <td>-0.172181</td>\n",
              "      <td>-0.082732</td>\n",
              "      <td>0.135843</td>\n",
              "      <td>0.011548</td>\n",
              "      <td>0.017318</td>\n",
              "      <td>-0.254997</td>\n",
              "      <td>0.113355</td>\n",
              "      <td>0.033932</td>\n",
              "      <td>-0.071162</td>\n",
              "      <td>-0.099428</td>\n",
              "      <td>-0.107563</td>\n",
              "      <td>0.042243</td>\n",
              "      <td>0.106874</td>\n",
              "      <td>-0.127894</td>\n",
              "      <td>-0.018735</td>\n",
              "      <td>0.017060</td>\n",
              "      <td>0.076911</td>\n",
              "      <td>-0.127784</td>\n",
              "      <td>-0.183286</td>\n",
              "      <td>-0.182893</td>\n",
              "      <td>0.120741</td>\n",
              "      <td>-0.158713</td>\n",
              "      <td>-0.077712</td>\n",
              "      <td>0.008842</td>\n",
              "      <td>-0.133573</td>\n",
              "      <td>0.030468</td>\n",
              "      <td>-0.225340</td>\n",
              "      <td>0.060964</td>\n",
              "      <td>0.047286</td>\n",
              "      <td>0.195375</td>\n",
              "      <td>0.066941</td>\n",
              "      <td>-0.076980</td>\n",
              "      <td>0</td>\n",
              "      <td>1</td>\n",
              "      <td>0</td>\n",
              "      <td>0</td>\n",
              "      <td>0</td>\n",
              "      <td>0</td>\n",
              "      <td>0</td>\n",
              "      <td>0</td>\n",
              "      <td>0</td>\n",
              "      <td>0</td>\n",
              "      <td>0</td>\n",
              "      <td>0</td>\n",
              "      <td>0</td>\n",
              "      <td>0</td>\n",
              "      <td>0</td>\n",
              "      <td>0</td>\n",
              "      <td>0</td>\n",
              "      <td>0</td>\n",
              "      <td>0</td>\n",
              "      <td>0</td>\n",
              "      <td>0.333660</td>\n",
              "      <td>0.161552</td>\n",
              "      <td>0.120748</td>\n",
              "      <td>0.167415</td>\n",
              "    </tr>\n",
              "    <tr>\n",
              "      <th>2</th>\n",
              "      <td>3</td>\n",
              "      <td>-0.157183</td>\n",
              "      <td>0.009618</td>\n",
              "      <td>0.088339</td>\n",
              "      <td>-0.084143</td>\n",
              "      <td>0.094306</td>\n",
              "      <td>-0.351647</td>\n",
              "      <td>-0.034583</td>\n",
              "      <td>0.144340</td>\n",
              "      <td>-0.008939</td>\n",
              "      <td>-0.219161</td>\n",
              "      <td>-0.052356</td>\n",
              "      <td>0.286848</td>\n",
              "      <td>0.198618</td>\n",
              "      <td>-0.214440</td>\n",
              "      <td>-0.268811</td>\n",
              "      <td>0.150304</td>\n",
              "      <td>0.448504</td>\n",
              "      <td>-0.384054</td>\n",
              "      <td>0.057444</td>\n",
              "      <td>-0.138773</td>\n",
              "      <td>0.220159</td>\n",
              "      <td>0.288947</td>\n",
              "      <td>-0.352348</td>\n",
              "      <td>-0.050004</td>\n",
              "      <td>0.051974</td>\n",
              "      <td>0.038191</td>\n",
              "      <td>-0.202896</td>\n",
              "      <td>0.417181</td>\n",
              "      <td>0.010661</td>\n",
              "      <td>0.114940</td>\n",
              "      <td>0.244948</td>\n",
              "      <td>0.222384</td>\n",
              "      <td>0</td>\n",
              "      <td>0</td>\n",
              "      <td>1</td>\n",
              "      <td>0</td>\n",
              "      <td>0</td>\n",
              "      <td>0</td>\n",
              "      <td>0</td>\n",
              "      <td>0</td>\n",
              "      <td>0</td>\n",
              "      <td>0</td>\n",
              "      <td>0</td>\n",
              "      <td>0</td>\n",
              "      <td>0</td>\n",
              "      <td>0</td>\n",
              "      <td>0</td>\n",
              "      <td>0</td>\n",
              "      <td>0</td>\n",
              "      <td>0</td>\n",
              "      <td>0</td>\n",
              "      <td>0</td>\n",
              "      <td>0.153438</td>\n",
              "      <td>0.186358</td>\n",
              "      <td>0.148314</td>\n",
              "      <td>0.113224</td>\n",
              "    </tr>\n",
              "    <tr>\n",
              "      <th>3</th>\n",
              "      <td>4</td>\n",
              "      <td>-0.124824</td>\n",
              "      <td>-0.020829</td>\n",
              "      <td>0.109950</td>\n",
              "      <td>0.005343</td>\n",
              "      <td>-0.014215</td>\n",
              "      <td>-0.075313</td>\n",
              "      <td>-0.015466</td>\n",
              "      <td>0.142181</td>\n",
              "      <td>0.093969</td>\n",
              "      <td>0.049267</td>\n",
              "      <td>-0.040896</td>\n",
              "      <td>-0.058768</td>\n",
              "      <td>0.015671</td>\n",
              "      <td>0.000444</td>\n",
              "      <td>0.055295</td>\n",
              "      <td>-0.003689</td>\n",
              "      <td>0.235109</td>\n",
              "      <td>-0.218155</td>\n",
              "      <td>0.120014</td>\n",
              "      <td>-0.146563</td>\n",
              "      <td>0.243076</td>\n",
              "      <td>-0.017480</td>\n",
              "      <td>-0.035989</td>\n",
              "      <td>0.017321</td>\n",
              "      <td>-0.189579</td>\n",
              "      <td>0.234798</td>\n",
              "      <td>-0.151922</td>\n",
              "      <td>0.161062</td>\n",
              "      <td>-0.054403</td>\n",
              "      <td>0.262250</td>\n",
              "      <td>0.217358</td>\n",
              "      <td>0.176144</td>\n",
              "      <td>0</td>\n",
              "      <td>0</td>\n",
              "      <td>0</td>\n",
              "      <td>0</td>\n",
              "      <td>0</td>\n",
              "      <td>1</td>\n",
              "      <td>0</td>\n",
              "      <td>0</td>\n",
              "      <td>0</td>\n",
              "      <td>0</td>\n",
              "      <td>0</td>\n",
              "      <td>0</td>\n",
              "      <td>0</td>\n",
              "      <td>0</td>\n",
              "      <td>0</td>\n",
              "      <td>0</td>\n",
              "      <td>0</td>\n",
              "      <td>0</td>\n",
              "      <td>0</td>\n",
              "      <td>0</td>\n",
              "      <td>0.606095</td>\n",
              "      <td>0.376574</td>\n",
              "      <td>0.045419</td>\n",
              "      <td>0.033385</td>\n",
              "    </tr>\n",
              "    <tr>\n",
              "      <th>4</th>\n",
              "      <td>5</td>\n",
              "      <td>-0.261996</td>\n",
              "      <td>-0.288156</td>\n",
              "      <td>0.197021</td>\n",
              "      <td>-0.208817</td>\n",
              "      <td>1.027182</td>\n",
              "      <td>0.207817</td>\n",
              "      <td>-0.073727</td>\n",
              "      <td>0.010425</td>\n",
              "      <td>-0.029520</td>\n",
              "      <td>0.173434</td>\n",
              "      <td>0.076610</td>\n",
              "      <td>-0.029162</td>\n",
              "      <td>-0.006886</td>\n",
              "      <td>0.002491</td>\n",
              "      <td>0.105421</td>\n",
              "      <td>0.066087</td>\n",
              "      <td>-0.081108</td>\n",
              "      <td>0.155968</td>\n",
              "      <td>0.103546</td>\n",
              "      <td>-0.086449</td>\n",
              "      <td>-0.114413</td>\n",
              "      <td>-0.202190</td>\n",
              "      <td>-0.498856</td>\n",
              "      <td>-0.183288</td>\n",
              "      <td>0.200243</td>\n",
              "      <td>0.339281</td>\n",
              "      <td>0.049975</td>\n",
              "      <td>-0.064397</td>\n",
              "      <td>-0.205344</td>\n",
              "      <td>-0.324963</td>\n",
              "      <td>0.335434</td>\n",
              "      <td>-0.181493</td>\n",
              "      <td>0</td>\n",
              "      <td>0</td>\n",
              "      <td>0</td>\n",
              "      <td>0</td>\n",
              "      <td>0</td>\n",
              "      <td>0</td>\n",
              "      <td>0</td>\n",
              "      <td>0</td>\n",
              "      <td>0</td>\n",
              "      <td>0</td>\n",
              "      <td>0</td>\n",
              "      <td>0</td>\n",
              "      <td>0</td>\n",
              "      <td>0</td>\n",
              "      <td>0</td>\n",
              "      <td>1</td>\n",
              "      <td>0</td>\n",
              "      <td>0</td>\n",
              "      <td>0</td>\n",
              "      <td>0</td>\n",
              "      <td>0.206979</td>\n",
              "      <td>0.045804</td>\n",
              "      <td>0.141537</td>\n",
              "      <td>0.142070</td>\n",
              "    </tr>\n",
              "  </tbody>\n",
              "</table>\n",
              "</div>"
            ],
            "text/plain": [
              "   0         1         2         3   ...        53        54        55        56\n",
              "0   1 -0.007510  0.002892  0.006003  ...  0.459391  0.193252  0.139495  0.151400\n",
              "1   2 -0.172181 -0.082732  0.135843  ...  0.333660  0.161552  0.120748  0.167415\n",
              "2   3 -0.157183  0.009618  0.088339  ...  0.153438  0.186358  0.148314  0.113224\n",
              "3   4 -0.124824 -0.020829  0.109950  ...  0.606095  0.376574  0.045419  0.033385\n",
              "4   5 -0.261996 -0.288156  0.197021  ...  0.206979  0.045804  0.141537  0.142070\n",
              "\n",
              "[5 rows x 57 columns]"
            ]
          },
          "metadata": {},
          "execution_count": 5
        }
      ]
    },
    {
      "cell_type": "code",
      "metadata": {
        "id": "UVHCz0VTrajw"
      },
      "source": [
        "df_melted = pd.melt(df, id_vars=[0], value_vars=list(range(1,57)))"
      ],
      "execution_count": null,
      "outputs": []
    },
    {
      "cell_type": "code",
      "metadata": {
        "colab": {
          "base_uri": "https://localhost:8080/"
        },
        "id": "UtWfvgbasXuu",
        "outputId": "c7a3dd53-100e-4577-b086-97ec569623a5"
      },
      "source": [
        "df_melted.info()"
      ],
      "execution_count": null,
      "outputs": [
        {
          "output_type": "stream",
          "name": "stdout",
          "text": [
            "<class 'pandas.core.frame.DataFrame'>\n",
            "RangeIndex: 1359120 entries, 0 to 1359119\n",
            "Data columns (total 3 columns):\n",
            " #   Column    Non-Null Count    Dtype  \n",
            "---  ------    --------------    -----  \n",
            " 0   0         1359120 non-null  int64  \n",
            " 1   variable  1359120 non-null  int64  \n",
            " 2   value     1359120 non-null  float64\n",
            "dtypes: float64(1), int64(2)\n",
            "memory usage: 31.1 MB\n"
          ]
        }
      ]
    },
    {
      "cell_type": "code",
      "metadata": {
        "colab": {
          "base_uri": "https://localhost:8080/",
          "height": 359
        },
        "id": "s-LQ9GS8re8F",
        "outputId": "06e1509f-b570-4b4a-d4fe-56ef94b339ff"
      },
      "source": [
        "df_melted.head(10)"
      ],
      "execution_count": null,
      "outputs": [
        {
          "output_type": "execute_result",
          "data": {
            "text/html": [
              "<div>\n",
              "<style scoped>\n",
              "    .dataframe tbody tr th:only-of-type {\n",
              "        vertical-align: middle;\n",
              "    }\n",
              "\n",
              "    .dataframe tbody tr th {\n",
              "        vertical-align: top;\n",
              "    }\n",
              "\n",
              "    .dataframe thead th {\n",
              "        text-align: right;\n",
              "    }\n",
              "</style>\n",
              "<table border=\"1\" class=\"dataframe\">\n",
              "  <thead>\n",
              "    <tr style=\"text-align: right;\">\n",
              "      <th></th>\n",
              "      <th>0</th>\n",
              "      <th>variable</th>\n",
              "      <th>value</th>\n",
              "    </tr>\n",
              "  </thead>\n",
              "  <tbody>\n",
              "    <tr>\n",
              "      <th>0</th>\n",
              "      <td>1</td>\n",
              "      <td>1</td>\n",
              "      <td>-0.007510</td>\n",
              "    </tr>\n",
              "    <tr>\n",
              "      <th>1</th>\n",
              "      <td>2</td>\n",
              "      <td>1</td>\n",
              "      <td>-0.172181</td>\n",
              "    </tr>\n",
              "    <tr>\n",
              "      <th>2</th>\n",
              "      <td>3</td>\n",
              "      <td>1</td>\n",
              "      <td>-0.157183</td>\n",
              "    </tr>\n",
              "    <tr>\n",
              "      <th>3</th>\n",
              "      <td>4</td>\n",
              "      <td>1</td>\n",
              "      <td>-0.124824</td>\n",
              "    </tr>\n",
              "    <tr>\n",
              "      <th>4</th>\n",
              "      <td>5</td>\n",
              "      <td>1</td>\n",
              "      <td>-0.261996</td>\n",
              "    </tr>\n",
              "    <tr>\n",
              "      <th>5</th>\n",
              "      <td>6</td>\n",
              "      <td>1</td>\n",
              "      <td>-0.010896</td>\n",
              "    </tr>\n",
              "    <tr>\n",
              "      <th>6</th>\n",
              "      <td>7</td>\n",
              "      <td>1</td>\n",
              "      <td>-1.713777</td>\n",
              "    </tr>\n",
              "    <tr>\n",
              "      <th>7</th>\n",
              "      <td>8</td>\n",
              "      <td>1</td>\n",
              "      <td>-0.007510</td>\n",
              "    </tr>\n",
              "    <tr>\n",
              "      <th>8</th>\n",
              "      <td>9</td>\n",
              "      <td>1</td>\n",
              "      <td>-0.890512</td>\n",
              "    </tr>\n",
              "    <tr>\n",
              "      <th>9</th>\n",
              "      <td>10</td>\n",
              "      <td>1</td>\n",
              "      <td>-0.004124</td>\n",
              "    </tr>\n",
              "  </tbody>\n",
              "</table>\n",
              "</div>"
            ],
            "text/plain": [
              "    0  variable     value\n",
              "0   1         1 -0.007510\n",
              "1   2         1 -0.172181\n",
              "2   3         1 -0.157183\n",
              "3   4         1 -0.124824\n",
              "4   5         1 -0.261996\n",
              "5   6         1 -0.010896\n",
              "6   7         1 -1.713777\n",
              "7   8         1 -0.007510\n",
              "8   9         1 -0.890512\n",
              "9  10         1 -0.004124"
            ]
          },
          "metadata": {},
          "execution_count": 43
        }
      ]
    },
    {
      "cell_type": "code",
      "metadata": {
        "id": "J1VO1S3rhR2q"
      },
      "source": [
        "df_melted = df_melted.sort_values(by=['variable'])"
      ],
      "execution_count": null,
      "outputs": []
    },
    {
      "cell_type": "code",
      "metadata": {
        "id": "T4NQO65ThZ4b"
      },
      "source": [
        "df_country = df_melted[(df_melted.variable > 32) & (df_melted.variable < 53)]"
      ],
      "execution_count": null,
      "outputs": []
    },
    {
      "cell_type": "code",
      "metadata": {
        "colab": {
          "base_uri": "https://localhost:8080/",
          "height": 419
        },
        "id": "5kYsCXgLktrf",
        "outputId": "d91a7492-89ab-49c0-a56a-8cffd8b3e158"
      },
      "source": [
        "df_country"
      ],
      "execution_count": null,
      "outputs": [
        {
          "output_type": "execute_result",
          "data": {
            "text/html": [
              "<div>\n",
              "<style scoped>\n",
              "    .dataframe tbody tr th:only-of-type {\n",
              "        vertical-align: middle;\n",
              "    }\n",
              "\n",
              "    .dataframe tbody tr th {\n",
              "        vertical-align: top;\n",
              "    }\n",
              "\n",
              "    .dataframe thead th {\n",
              "        text-align: right;\n",
              "    }\n",
              "</style>\n",
              "<table border=\"1\" class=\"dataframe\">\n",
              "  <thead>\n",
              "    <tr style=\"text-align: right;\">\n",
              "      <th></th>\n",
              "      <th>0</th>\n",
              "      <th>variable</th>\n",
              "      <th>value</th>\n",
              "    </tr>\n",
              "  </thead>\n",
              "  <tbody>\n",
              "    <tr>\n",
              "      <th>792817</th>\n",
              "      <td>16178</td>\n",
              "      <td>33</td>\n",
              "      <td>0.0</td>\n",
              "    </tr>\n",
              "    <tr>\n",
              "      <th>792818</th>\n",
              "      <td>16179</td>\n",
              "      <td>33</td>\n",
              "      <td>0.0</td>\n",
              "    </tr>\n",
              "    <tr>\n",
              "      <th>792823</th>\n",
              "      <td>16184</td>\n",
              "      <td>33</td>\n",
              "      <td>0.0</td>\n",
              "    </tr>\n",
              "    <tr>\n",
              "      <th>792820</th>\n",
              "      <td>16181</td>\n",
              "      <td>33</td>\n",
              "      <td>0.0</td>\n",
              "    </tr>\n",
              "    <tr>\n",
              "      <th>792821</th>\n",
              "      <td>16182</td>\n",
              "      <td>33</td>\n",
              "      <td>0.0</td>\n",
              "    </tr>\n",
              "    <tr>\n",
              "      <th>...</th>\n",
              "      <td>...</td>\n",
              "      <td>...</td>\n",
              "      <td>...</td>\n",
              "    </tr>\n",
              "    <tr>\n",
              "      <th>1245859</th>\n",
              "      <td>8090</td>\n",
              "      <td>52</td>\n",
              "      <td>0.0</td>\n",
              "    </tr>\n",
              "    <tr>\n",
              "      <th>1245858</th>\n",
              "      <td>8089</td>\n",
              "      <td>52</td>\n",
              "      <td>0.0</td>\n",
              "    </tr>\n",
              "    <tr>\n",
              "      <th>1245857</th>\n",
              "      <td>8088</td>\n",
              "      <td>52</td>\n",
              "      <td>0.0</td>\n",
              "    </tr>\n",
              "    <tr>\n",
              "      <th>1245856</th>\n",
              "      <td>8087</td>\n",
              "      <td>52</td>\n",
              "      <td>1.0</td>\n",
              "    </tr>\n",
              "    <tr>\n",
              "      <th>1245864</th>\n",
              "      <td>8095</td>\n",
              "      <td>52</td>\n",
              "      <td>0.0</td>\n",
              "    </tr>\n",
              "  </tbody>\n",
              "</table>\n",
              "<p>485400 rows × 3 columns</p>\n",
              "</div>"
            ],
            "text/plain": [
              "             0  variable  value\n",
              "792817   16178        33    0.0\n",
              "792818   16179        33    0.0\n",
              "792823   16184        33    0.0\n",
              "792820   16181        33    0.0\n",
              "792821   16182        33    0.0\n",
              "...        ...       ...    ...\n",
              "1245859   8090        52    0.0\n",
              "1245858   8089        52    0.0\n",
              "1245857   8088        52    0.0\n",
              "1245856   8087        52    1.0\n",
              "1245864   8095        52    0.0\n",
              "\n",
              "[485400 rows x 3 columns]"
            ]
          },
          "metadata": {},
          "execution_count": 69
        }
      ]
    },
    {
      "cell_type": "code",
      "metadata": {
        "id": "P8sGVD0skhwz"
      },
      "source": [
        "df_country = df_country.sort_values(by=0)"
      ],
      "execution_count": null,
      "outputs": []
    },
    {
      "cell_type": "code",
      "metadata": {
        "id": "kvLsATnfkw7v"
      },
      "source": [
        "df_c = df_country[df_country[0] <= 100]"
      ],
      "execution_count": null,
      "outputs": []
    },
    {
      "cell_type": "code",
      "metadata": {
        "colab": {
          "base_uri": "https://localhost:8080/",
          "height": 419
        },
        "id": "kbCNPRpfk-mN",
        "outputId": "f9f3d22a-b25c-4380-ac45-904a75bf807b"
      },
      "source": [
        "df_c"
      ],
      "execution_count": null,
      "outputs": [
        {
          "output_type": "execute_result",
          "data": {
            "text/html": [
              "<div>\n",
              "<style scoped>\n",
              "    .dataframe tbody tr th:only-of-type {\n",
              "        vertical-align: middle;\n",
              "    }\n",
              "\n",
              "    .dataframe tbody tr th {\n",
              "        vertical-align: top;\n",
              "    }\n",
              "\n",
              "    .dataframe thead th {\n",
              "        text-align: right;\n",
              "    }\n",
              "</style>\n",
              "<table border=\"1\" class=\"dataframe\">\n",
              "  <thead>\n",
              "    <tr style=\"text-align: right;\">\n",
              "      <th></th>\n",
              "      <th>0</th>\n",
              "      <th>variable</th>\n",
              "      <th>value</th>\n",
              "    </tr>\n",
              "  </thead>\n",
              "  <tbody>\n",
              "    <tr>\n",
              "      <th>1164960</th>\n",
              "      <td>1</td>\n",
              "      <td>49</td>\n",
              "      <td>0.0</td>\n",
              "    </tr>\n",
              "    <tr>\n",
              "      <th>1237770</th>\n",
              "      <td>1</td>\n",
              "      <td>52</td>\n",
              "      <td>0.0</td>\n",
              "    </tr>\n",
              "    <tr>\n",
              "      <th>1213500</th>\n",
              "      <td>1</td>\n",
              "      <td>51</td>\n",
              "      <td>0.0</td>\n",
              "    </tr>\n",
              "    <tr>\n",
              "      <th>873720</th>\n",
              "      <td>1</td>\n",
              "      <td>37</td>\n",
              "      <td>0.0</td>\n",
              "    </tr>\n",
              "    <tr>\n",
              "      <th>922260</th>\n",
              "      <td>1</td>\n",
              "      <td>39</td>\n",
              "      <td>0.0</td>\n",
              "    </tr>\n",
              "    <tr>\n",
              "      <th>...</th>\n",
              "      <td>...</td>\n",
              "      <td>...</td>\n",
              "      <td>...</td>\n",
              "    </tr>\n",
              "    <tr>\n",
              "      <th>801009</th>\n",
              "      <td>100</td>\n",
              "      <td>34</td>\n",
              "      <td>0.0</td>\n",
              "    </tr>\n",
              "    <tr>\n",
              "      <th>922359</th>\n",
              "      <td>100</td>\n",
              "      <td>39</td>\n",
              "      <td>0.0</td>\n",
              "    </tr>\n",
              "    <tr>\n",
              "      <th>1116519</th>\n",
              "      <td>100</td>\n",
              "      <td>47</td>\n",
              "      <td>0.0</td>\n",
              "    </tr>\n",
              "    <tr>\n",
              "      <th>1043709</th>\n",
              "      <td>100</td>\n",
              "      <td>44</td>\n",
              "      <td>0.0</td>\n",
              "    </tr>\n",
              "    <tr>\n",
              "      <th>1019439</th>\n",
              "      <td>100</td>\n",
              "      <td>43</td>\n",
              "      <td>0.0</td>\n",
              "    </tr>\n",
              "  </tbody>\n",
              "</table>\n",
              "<p>2000 rows × 3 columns</p>\n",
              "</div>"
            ],
            "text/plain": [
              "           0  variable  value\n",
              "1164960    1        49    0.0\n",
              "1237770    1        52    0.0\n",
              "1213500    1        51    0.0\n",
              "873720     1        37    0.0\n",
              "922260     1        39    0.0\n",
              "...      ...       ...    ...\n",
              "801009   100        34    0.0\n",
              "922359   100        39    0.0\n",
              "1116519  100        47    0.0\n",
              "1043709  100        44    0.0\n",
              "1019439  100        43    0.0\n",
              "\n",
              "[2000 rows x 3 columns]"
            ]
          },
          "metadata": {},
          "execution_count": 75
        }
      ]
    },
    {
      "cell_type": "code",
      "metadata": {
        "id": "a3qXRJ2TlLPW"
      },
      "source": [
        "train_ds = Dataset.load_from_df(df_c,Reader(rating_scale=(0,1)))"
      ],
      "execution_count": null,
      "outputs": []
    },
    {
      "cell_type": "code",
      "metadata": {
        "id": "zZJwU3NMle93"
      },
      "source": [
        "svd = SVD(n_factors=10, reg_all=0.1, biased=True)"
      ],
      "execution_count": null,
      "outputs": []
    },
    {
      "cell_type": "code",
      "metadata": {
        "colab": {
          "base_uri": "https://localhost:8080/"
        },
        "id": "OYtwGBTyls9J",
        "outputId": "beda37ef-4df3-45ea-d47f-d4207fa06f4c"
      },
      "source": [
        "cross_validate(svd, train_ds, cv=5, verbose=True)"
      ],
      "execution_count": null,
      "outputs": [
        {
          "output_type": "stream",
          "name": "stdout",
          "text": [
            "Evaluating RMSE, MAE of algorithm SVD on 5 split(s).\n",
            "\n",
            "                  Fold 1  Fold 2  Fold 3  Fold 4  Fold 5  Mean    Std     \n",
            "RMSE (testset)    0.2332  0.2187  0.1937  0.1841  0.2142  0.2088  0.0177  \n",
            "MAE (testset)     0.1025  0.0885  0.0847  0.0749  0.0918  0.0885  0.0090  \n",
            "Fit time          0.03    0.02    0.03    0.03    0.03    0.03    0.00    \n",
            "Test time         0.00    0.00    0.00    0.00    0.00    0.00    0.00    \n"
          ]
        },
        {
          "output_type": "execute_result",
          "data": {
            "text/plain": [
              "{'fit_time': (0.02787923812866211,\n",
              "  0.024306297302246094,\n",
              "  0.02651357650756836,\n",
              "  0.025467872619628906,\n",
              "  0.030232667922973633),\n",
              " 'test_mae': array([0.10254027, 0.08854902, 0.08473432, 0.07488596, 0.09175325]),\n",
              " 'test_rmse': array([0.23319248, 0.21868248, 0.19371121, 0.18412423, 0.21422197]),\n",
              " 'test_time': (0.0030994415283203125,\n",
              "  0.0027501583099365234,\n",
              "  0.0028362274169921875,\n",
              "  0.004204273223876953,\n",
              "  0.002920866012573242)}"
            ]
          },
          "metadata": {},
          "execution_count": 79
        }
      ]
    },
    {
      "cell_type": "code",
      "metadata": {
        "id": "Eaw7kg1KfFok"
      },
      "source": [
        "sim_options = {\n",
        "    'name': 'cosine',\n",
        "    'user_based':True  \n",
        "}"
      ],
      "execution_count": 80,
      "outputs": []
    },
    {
      "cell_type": "code",
      "metadata": {
        "id": "DBCh7sXPoOq_"
      },
      "source": [
        "knn_bas = surprise.prediction_algorithms.KNNBasic(sim_options=sim_options)"
      ],
      "execution_count": 81,
      "outputs": []
    },
    {
      "cell_type": "code",
      "metadata": {
        "id": "LCToXq-goTl8"
      },
      "source": [
        "training, testing = train_test_split(train_ds, test_size=0.2, random_state=1, shuffle=True)"
      ],
      "execution_count": 84,
      "outputs": []
    },
    {
      "cell_type": "code",
      "metadata": {
        "colab": {
          "base_uri": "https://localhost:8080/"
        },
        "id": "eBZgf4uLosJD",
        "outputId": "69108eb7-9a9b-4680-e0c0-f5ac72572c30"
      },
      "source": [
        "knn_bas.fit(training)"
      ],
      "execution_count": 86,
      "outputs": [
        {
          "output_type": "stream",
          "name": "stdout",
          "text": [
            "Computing the cosine similarity matrix...\n",
            "Done computing similarity matrix.\n"
          ]
        },
        {
          "output_type": "stream",
          "name": "stderr",
          "text": [
            "/usr/local/lib/python3.7/dist-packages/surprise/prediction_algorithms/algo_base.py:249: RuntimeWarning: invalid value encountered in double_scalars\n",
            "  sim = construction_func[name](*args)\n"
          ]
        },
        {
          "output_type": "execute_result",
          "data": {
            "text/plain": [
              "<surprise.prediction_algorithms.knns.KNNBasic at 0x7f42cf77e210>"
            ]
          },
          "metadata": {},
          "execution_count": 86
        }
      ]
    },
    {
      "cell_type": "code",
      "metadata": {
        "id": "s-558I4ToxpB"
      },
      "source": [
        "predictions_knn = knn_bas.test(testing)"
      ],
      "execution_count": 87,
      "outputs": []
    },
    {
      "cell_type": "code",
      "metadata": {
        "colab": {
          "base_uri": "https://localhost:8080/"
        },
        "id": "bRQSFMD9o8ch",
        "outputId": "ea91f381-e3ae-4545-b1c2-2e84dd276570"
      },
      "source": [
        "accuracy.rmse(predictions_knn, verbose=True) "
      ],
      "execution_count": 89,
      "outputs": [
        {
          "output_type": "stream",
          "name": "stdout",
          "text": [
            "RMSE: 0.2138\n"
          ]
        },
        {
          "output_type": "execute_result",
          "data": {
            "text/plain": [
              "0.21380481753225297"
            ]
          },
          "metadata": {},
          "execution_count": 89
        }
      ]
    },
    {
      "cell_type": "code",
      "metadata": {
        "id": "Yna4dtk5pMSY"
      },
      "source": [
        ""
      ],
      "execution_count": null,
      "outputs": []
    }
  ]
}